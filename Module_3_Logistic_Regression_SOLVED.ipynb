{
  "cells": [
    {
      "cell_type": "markdown",
      "metadata": {
        "pycharm": {
          "name": "#%% md\n"
        },
        "id": "0j1hUL8pBP-a"
      },
      "source": [
        "# Module 3: Logistic Regression\n",
        "\n",
        "In this assignment, you will\n",
        "- explore the sigmoid function (also known as the logistic function)\n",
        "- explore logistic regression; which uses the sigmoid function"
      ],
      "id": "0j1hUL8pBP-a"
    },
    {
      "cell_type": "code",
      "execution_count": 1,
      "metadata": {
        "pycharm": {
          "name": "#%%\n"
        },
        "id": "k8pK7vJVBP-8"
      },
      "outputs": [],
      "source": [
        "import numpy as np\n",
        "import matplotlib.pyplot as plt\n",
        "from utils import plot_data\n"
      ],
      "id": "k8pK7vJVBP-8"
    },
    {
      "cell_type": "markdown",
      "metadata": {
        "pycharm": {
          "name": "#%% md\n"
        },
        "id": "jZNwkSRqBP_K"
      },
      "source": [
        "## Sigmoid or Logistic Function\n",
        "As discussed in the lecture videos, for a classification task, we can start by using our linear regression model, $h(\\mathbf{x}^{(i)}) = \\mathbf{w} \\cdot  \\mathbf{x}^{(i)} + b$, to predict $y$ given $x$.\n",
        "- However, we would like the predictions of our classification model to be between 0 and 1 since our output variable $y$ is either 0 or 1.\n",
        "- This can be accomplished by using a \"sigmoid function\" which maps all input values to values between 0 and 1.\n",
        "\n",
        "\n",
        "Let's implement the sigmoid function and see this for ourselves.\n",
        "\n",
        "## Formula for Sigmoid function\n",
        "\n",
        "The formula for a sigmoid function is as follows -  \n",
        "\n",
        "$g(z) = \\frac{1}{1+e^{-z}}\\tag{1}$\n",
        "\n",
        "In the case of logistic regression, z (the input to the sigmoid function), is the output of a linear regression model.\n",
        "- In the case of a single example, $z$ is scalar.\n",
        "- in the case of multiple examples, $z$ may be a vector consisting of $m$ values, one for each example.\n",
        "- The implementation of the sigmoid function should cover both of these potential input formats.\n",
        "Let's implement this in Python."
      ],
      "id": "jZNwkSRqBP_K"
    },
    {
      "cell_type": "markdown",
      "metadata": {
        "pycharm": {
          "name": "#%% md\n"
        },
        "id": "89BAEbVaBP_N"
      },
      "source": [
        "NumPy has a function called [`exp()`](https://numpy.org/doc/stable/reference/generated/numpy.exp.html), which offers a convenient way to calculate the exponential ( $e^{z}$) of all elements in the input array (`z`).\n",
        "\n",
        "It also works with a single number as an input, as shown below."
      ],
      "id": "89BAEbVaBP_N"
    },
    {
      "cell_type": "code",
      "execution_count": 2,
      "metadata": {
        "pycharm": {
          "name": "#%%\n"
        },
        "id": "evHOcwpiBP_Q",
        "outputId": "788ef811-d808-49fa-8027-3eca1f31b5e1",
        "colab": {
          "base_uri": "https://localhost:8080/"
        }
      },
      "outputs": [
        {
          "output_type": "stream",
          "name": "stdout",
          "text": [
            "Input to exp: [1 2 3]\n",
            "Output of exp: [ 2.71828183  7.3890561  20.08553692]\n",
            "Input to exp: 1\n",
            "Output of exp: 2.718281828459045\n"
          ]
        }
      ],
      "source": [
        "# Input is an array.\n",
        "input_array = np.array([1,2,3])\n",
        "exp_array = np.exp(input_array)\n",
        "\n",
        "print(\"Input to exp:\", input_array)\n",
        "print(\"Output of exp:\", exp_array)\n",
        "\n",
        "# Input is a single number\n",
        "input_val = 1\n",
        "exp_val = np.exp(input_val)\n",
        "\n",
        "print(\"Input to exp:\", input_val)\n",
        "print(\"Output of exp:\", exp_val)"
      ],
      "id": "evHOcwpiBP_Q"
    },
    {
      "cell_type": "markdown",
      "metadata": {
        "pycharm": {
          "name": "#%% md\n"
        },
        "id": "LRyoptqwBP_d"
      },
      "source": [
        "The `sigmoid` function is implemented in python as shown in the cell below."
      ],
      "id": "LRyoptqwBP_d"
    },
    {
      "cell_type": "code",
      "execution_count": 3,
      "metadata": {
        "pycharm": {
          "name": "#%%\n"
        },
        "id": "y6pA2Ez5BP_h"
      },
      "outputs": [],
      "source": [
        "def sigmoid(z):\n",
        "    \"\"\"\n",
        "    Compute the sigmoid of z\n",
        "\n",
        "    Args:\n",
        "        z (ndarray): A scalar, numpy array of any size.\n",
        "\n",
        "    Returns:\n",
        "        g (ndarray): sigmoid(z), with the same shape as z\n",
        "\n",
        "    \"\"\"\n",
        "\n",
        "    g = 1/(1+np.exp(-z))\n",
        "\n",
        "    return g"
      ],
      "id": "y6pA2Ez5BP_h"
    },
    {
      "cell_type": "markdown",
      "metadata": {
        "pycharm": {
          "name": "#%% md\n"
        },
        "id": "aQO9F4NbBP_k"
      },
      "source": [
        "Let's see what the output of this function is for various value of `z`"
      ],
      "id": "aQO9F4NbBP_k"
    },
    {
      "cell_type": "code",
      "execution_count": 4,
      "metadata": {
        "pycharm": {
          "name": "#%%\n"
        },
        "id": "_l-eERw7BP_q",
        "outputId": "669eccd7-6303-486e-d4d1-471770c1b32a",
        "colab": {
          "base_uri": "https://localhost:8080/"
        }
      },
      "outputs": [
        {
          "output_type": "stream",
          "name": "stdout",
          "text": [
            "Input (z), Output (sigmoid(z))\n",
            "[[-1.000e+01  4.540e-05]\n",
            " [-9.000e+00  1.234e-04]\n",
            " [-8.000e+00  3.354e-04]\n",
            " [-7.000e+00  9.111e-04]\n",
            " [-6.000e+00  2.473e-03]\n",
            " [-5.000e+00  6.693e-03]\n",
            " [-4.000e+00  1.799e-02]\n",
            " [-3.000e+00  4.743e-02]\n",
            " [-2.000e+00  1.192e-01]\n",
            " [-1.000e+00  2.689e-01]\n",
            " [ 0.000e+00  5.000e-01]\n",
            " [ 1.000e+00  7.311e-01]\n",
            " [ 2.000e+00  8.808e-01]\n",
            " [ 3.000e+00  9.526e-01]\n",
            " [ 4.000e+00  9.820e-01]\n",
            " [ 5.000e+00  9.933e-01]\n",
            " [ 6.000e+00  9.975e-01]\n",
            " [ 7.000e+00  9.991e-01]\n",
            " [ 8.000e+00  9.997e-01]\n",
            " [ 9.000e+00  9.999e-01]\n",
            " [ 1.000e+01  1.000e+00]]\n"
          ]
        }
      ],
      "source": [
        "# Generate an array of evenly spaced values between -10 and 10\n",
        "z_tmp = np.arange(-10,11)\n",
        "\n",
        "# Use the function implemented above to get the sigmoid values\n",
        "y = sigmoid(z_tmp)\n",
        "\n",
        "# Code for pretty printing the two arrays next to each other\n",
        "np.set_printoptions(precision=3)\n",
        "print(\"Input (z), Output (sigmoid(z))\")\n",
        "print(np.c_[z_tmp, y])"
      ],
      "id": "_l-eERw7BP_q"
    },
    {
      "cell_type": "markdown",
      "metadata": {
        "pycharm": {
          "name": "#%% md\n"
        },
        "id": "9QeXSNkmBP_v"
      },
      "source": [
        "The values in the left column are `z`, and the values in the right column are `sigmoid(z)`. As you can see, the input values to the sigmoid range from -10 to 10, and the output values range from 0 to 1.\n",
        "\n",
        "Now, let's try to plot this function using the `matplotlib` library."
      ],
      "id": "9QeXSNkmBP_v"
    },
    {
      "cell_type": "code",
      "execution_count": 5,
      "metadata": {
        "pycharm": {
          "name": "#%%\n"
        },
        "colab": {
          "base_uri": "https://localhost:8080/",
          "height": 350
        },
        "id": "JoeMzv7iBP_6",
        "outputId": "55b64a55-1c76-4ec9-f298-f721798328db"
      },
      "outputs": [
        {
          "output_type": "execute_result",
          "data": {
            "text/plain": [
              "Text(0.5, 0, 'z')"
            ]
          },
          "metadata": {},
          "execution_count": 5
        },
        {
          "output_type": "display_data",
          "data": {
            "text/plain": [
              "<Figure size 500x300 with 1 Axes>"
            ],
            "image/png": "[encoded data removed]"
          },
          "metadata": {}
        }
      ],
      "source": [
        "# Plot z vs sigmoid(z)\n",
        "fig,ax = plt.subplots(1,1,figsize=(5,3))\n",
        "ax.plot(z_tmp, y, c=\"b\")\n",
        "\n",
        "ax.set_title(\"Sigmoid function\")\n",
        "ax.set_ylabel('sigmoid(z)')\n",
        "ax.set_xlabel('z')"
      ],
      "id": "JoeMzv7iBP_6"
    },
    {
      "cell_type": "markdown",
      "metadata": {
        "pycharm": {
          "name": "#%% md\n"
        },
        "id": "mKF23OczBP_8"
      },
      "source": [
        "As you can see, the sigmoid function approaches  `0` as `z` goes to large negative values and approaches `1` as `z` goes to large positive values.\n"
      ],
      "id": "mKF23OczBP_8"
    },
    {
      "cell_type": "markdown",
      "metadata": {
        "pycharm": {
          "name": "#%% md\n"
        },
        "id": "kemeI55NBQAA"
      },
      "source": [
        "## Decision Boundary\n",
        " Lets the decision boundary for a logistic regression model. This will give you a better sense of what the model is predicting.\n",
        "\n"
      ],
      "id": "kemeI55NBQAA"
    },
    {
      "cell_type": "markdown",
      "source": [
        "Let's suppose you have following training dataset\n",
        "\n",
        "*   The input variable X is a numpy array which has 6 training examples, each with two features\n",
        "*   The output variable y is also a numpy array with 6 examples, and y is either 0 or 1"
      ],
      "metadata": {
        "id": "tz6Bc6eQeBOh"
      },
      "id": "tz6Bc6eQeBOh"
    },
    {
      "cell_type": "code",
      "execution_count": 6,
      "metadata": {
        "tags": [],
        "pycharm": {
          "name": "#%%\n"
        },
        "id": "iL7MKGEaBQAE"
      },
      "outputs": [],
      "source": [
        "X = np.array([[0.5, 1.5], [1,1], [1.5, 0.5], [3, 0.5], [2, 2], [1, 2.5]])\n",
        "y = np.array([0, 0, 0, 1, 1, 1]).reshape(-1,1)"
      ],
      "id": "iL7MKGEaBQAE"
    },
    {
      "cell_type": "markdown",
      "metadata": {
        "pycharm": {
          "name": "#%% md\n"
        },
        "id": "c49XOvWQBQAE"
      },
      "source": [
        "### Logistic regression model\n",
        "\n",
        "\n",
        "* Suppose you'd like to train a logistic regression model on this data which has the form   \n",
        "\n",
        "  $h(x) = g(w_0x_0+w_1x_1 + b)$\n",
        "  \n",
        "  where $g(z) = \\frac{1}{1+e^{-z}}$, which is the sigmoid function\n",
        "\n",
        "\n",
        "* Let's say that you trained the model and get the parameters as $b = -3, w_0 = 1, w_1 = 1$. That is,\n",
        "\n",
        "  $h(x) = g(x_0+x_1-3)$\n",
        "\n",
        "  (You'll learn how to train/fit and get these parameters in the further sections)\n",
        "  \n",
        "  \n",
        "Let's try to understand what this trained model is predicting by plotting its decision boundary"
      ],
      "id": "c49XOvWQBQAE"
    },
    {
      "cell_type": "markdown",
      "source": [
        "* Recall that for logistic regression, the model is represented as\n",
        "\n",
        "  $$h(\\mathbf{x}^{(i)}) = g(\\mathbf{w} \\cdot \\mathbf{x}^{(i)} + b) \\tag{1}$$\n",
        "\n",
        "  where $g(z)$ is known as the sigmoid function and it maps all input values to values between 0 and 1:\n",
        "\n",
        "  $g(z) = \\frac{1}{1+e^{-z}}\\tag{2}$\n",
        "  and $\\mathbf{w} \\cdot \\mathbf{x}$ is the vector dot product:\n",
        "  \n",
        "  $$\\mathbf{w} \\cdot \\mathbf{x} = w_0 x_0 + w_1 x_1$$\n",
        "  \n",
        "  \n",
        " * We interpret the output of the model ($h(x)$) as the probability that $y=1$ given $\\mathbf{x}$ and parameterized by $\\mathbf{w}$ and $b$.\n",
        "* Therefore, to get a final prediction ($y=0$ or $y=1$) from the logistic regression model, we can use the following heuristic -\n",
        "\n",
        "  if $h(x) >= 0.5$, predict $y=1$\n",
        "  \n",
        "  if $h(x) < 0.5$, predict $y=0$\n",
        "  \n",
        "  \n",
        "* Let's plot the sigmoid function to see where $g(z) >= 0.5$"
      ],
      "metadata": {
        "id": "50PnLNCBoOGl"
      },
      "id": "50PnLNCBoOGl"
    },
    {
      "cell_type": "markdown",
      "source": [
        "## Plotting decision boundary\n",
        "\n",
        "Now, let's go back to our example to understand how the logistic regression model is making predictions.\n",
        "\n",
        "* Our logistic regression model has the form\n",
        "\n",
        "  $h(\\mathbf{x}) = g(-3 + x_0+x_1)$\n",
        "\n",
        "\n",
        "* From what you've learnt above, you can see that this model predicts $y=1$ if $-3 + x_0+x_1 >= 0$\n",
        "\n",
        "Let's see what this looks like graphically. We'll start by plotting $-3 + x_0+x_1 = 0$, which is equivalent to $x_1 = 3 - x_0$."
      ],
      "metadata": {
        "id": "4XJnhFrjoepr"
      },
      "id": "4XJnhFrjoepr"
    },
    {
      "cell_type": "code",
      "source": [
        "# Choose values between 0 and 6\n",
        "x0 = np.arange(0,6)\n",
        "\n",
        "x1 = 3 - x0\n",
        "fig,ax = plt.subplots(1,1,figsize=(5,4))\n",
        "# Plot the decision boundary\n",
        "ax.plot(x0,x1, c=\"b\")\n",
        "ax.axis([0, 4, 0, 3.5])\n",
        "\n",
        "# Fill the region below the line\n",
        "ax.fill_between(x0,x1, alpha=0.2)\n",
        "\n",
        "# Plot the original data\n",
        "\n",
        "plot_data(X,y,ax)\n",
        "ax.set_ylabel(r'$x_1$')\n",
        "ax.set_xlabel(r'$x_0$')\n",
        "plt.show()"
      ],
      "metadata": {
        "colab": {
          "base_uri": "https://localhost:8080/",
          "height": 394
        },
        "id": "SIVeGSizoNze",
        "outputId": "a97a9f3b-60aa-415a-cbd6-74ea982b36b9"
      },
      "id": "SIVeGSizoNze",
      "execution_count": 7,
      "outputs": [
        {
          "output_type": "display_data",
          "data": {
            "text/plain": [
              "<Figure size 500x400 with 1 Axes>"
            ],
            "image/png": "[encoded data removed]"
          },
          "metadata": {}
        }
      ]
    },
    {
      "cell_type": "markdown",
      "source": [
        "## Train a logistic regression model using scikit-learn"
      ],
      "metadata": {
        "id": "5wm5lA5eqbId"
      },
      "id": "5wm5lA5eqbId"
    },
    {
      "cell_type": "code",
      "source": [
        "from sklearn.linear_model import LogisticRegression\n",
        "\n",
        "lr_model = LogisticRegression()\n",
        "lr_model.fit(X, y)"
      ],
      "metadata": {
        "colab": {
          "base_uri": "https://localhost:8080/",
          "height": 129
        },
        "id": "4mlAppyUY4PJ",
        "outputId": "0ffa375c-f09d-4f0f-eaf9-09964f01d2ef"
      },
      "id": "4mlAppyUY4PJ",
      "execution_count": 8,
      "outputs": [
        {
          "output_type": "stream",
          "name": "stderr",
          "text": [
            "/usr/local/lib/python3.10/dist-packages/sklearn/utils/validation.py:1143: DataConversionWarning: A column-vector y was passed when a 1d array was expected. Please change the shape of y to (n_samples, ), for example using ravel().\n",
            "  y = column_or_1d(y, warn=True)\n"
          ]
        },
        {
          "output_type": "execute_result",
          "data": {
            "text/plain": [
              "LogisticRegression()"
            ],
            "text/html": [
              "<style>#sk-container-id-1 {color: black;background-color: white;}#sk-container-id-1 pre{padding: 0;}#sk-container-id-1 div.sk-toggleable {background-color: white;}#sk-container-id-1 label.sk-toggleable__label {cursor: pointer;display: block;width: 100%;margin-bottom: 0;padding: 0.3em;box-sizing: border-box;text-align: center;}#sk-container-id-1 label.sk-toggleable__label-arrow:before {content: \"▸\";float: left;margin-right: 0.25em;color: #696969;}#sk-container-id-1 label.sk-toggleable__label-arrow:hover:before {color: black;}#sk-container-id-1 div.sk-estimator:hover label.sk-toggleable__label-arrow:before {color: black;}#sk-container-id-1 div.sk-toggleable__content {max-height: 0;max-width: 0;overflow: hidden;text-align: left;background-color: #f0f8ff;}#sk-container-id-1 div.sk-toggleable__content pre {margin: 0.2em;color: black;border-radius: 0.25em;background-color: #f0f8ff;}#sk-container-id-1 input.sk-toggleable__control:checked~div.sk-toggleable__content {max-height: 200px;max-width: 100%;overflow: auto;}#sk-container-id-1 input.sk-toggleable__control:checked~label.sk-toggleable__label-arrow:before {content: \"▾\";}#sk-container-id-1 div.sk-estimator input.sk-toggleable__control:checked~label.sk-toggleable__label {background-color: #d4ebff;}#sk-container-id-1 div.sk-label input.sk-toggleable__control:checked~label.sk-toggleable__label {background-color: #d4ebff;}#sk-container-id-1 input.sk-hidden--visually {border: 0;clip: rect(1px 1px 1px 1px);clip: rect(1px, 1px, 1px, 1px);height: 1px;margin: -1px;overflow: hidden;padding: 0;position: absolute;width: 1px;}#sk-container-id-1 div.sk-estimator {font-family: monospace;background-color: #f0f8ff;border: 1px dotted black;border-radius: 0.25em;box-sizing: border-box;margin-bottom: 0.5em;}#sk-container-id-1 div.sk-estimator:hover {background-color: #d4ebff;}#sk-container-id-1 div.sk-parallel-item::after {content: \"\";width: 100%;border-bottom: 1px solid gray;flex-grow: 1;}#sk-container-id-1 div.sk-label:hover label.sk-toggleable__label {background-color: #d4ebff;}#sk-container-id-1 div.sk-serial::before {content: \"\";position: absolute;border-left: 1px solid gray;box-sizing: border-box;top: 0;bottom: 0;left: 50%;z-index: 0;}#sk-container-id-1 div.sk-serial {display: flex;flex-direction: column;align-items: center;background-color: white;padding-right: 0.2em;padding-left: 0.2em;position: relative;}#sk-container-id-1 div.sk-item {position: relative;z-index: 1;}#sk-container-id-1 div.sk-parallel {display: flex;align-items: stretch;justify-content: center;background-color: white;position: relative;}#sk-container-id-1 div.sk-item::before, #sk-container-id-1 div.sk-parallel-item::before {content: \"\";position: absolute;border-left: 1px solid gray;box-sizing: border-box;top: 0;bottom: 0;left: 50%;z-index: -1;}#sk-container-id-1 div.sk-parallel-item {display: flex;flex-direction: column;z-index: 1;position: relative;background-color: white;}#sk-container-id-1 div.sk-parallel-item:first-child::after {align-self: flex-end;width: 50%;}#sk-container-id-1 div.sk-parallel-item:last-child::after {align-self: flex-start;width: 50%;}#sk-container-id-1 div.sk-parallel-item:only-child::after {width: 0;}#sk-container-id-1 div.sk-dashed-wrapped {border: 1px dashed gray;margin: 0 0.4em 0.5em 0.4em;box-sizing: border-box;padding-bottom: 0.4em;background-color: white;}#sk-container-id-1 div.sk-label label {font-family: monospace;font-weight: bold;display: inline-block;line-height: 1.2em;}#sk-container-id-1 div.sk-label-container {text-align: center;}#sk-container-id-1 div.sk-container {/* jupyter's `normalize.less` sets `[hidden] { display: none; }` but bootstrap.min.css set `[hidden] { display: none !important; }` so we also need the `!important` here to be able to override the default hidden behavior on the sphinx rendered scikit-learn.org. See: https://github.com/scikit-learn/scikit-learn/issues/21755 */display: inline-block !important;position: relative;}#sk-container-id-1 div.sk-text-repr-fallback {display: none;}</style><div id=\"sk-container-id-1\" class=\"sk-top-container\"><div class=\"sk-text-repr-fallback\"><pre>LogisticRegression()</pre><b>In a Jupyter environment, please rerun this cell to show the HTML representation or trust the notebook. <br />On GitHub, the HTML representation is unable to render, please try loading this page with nbviewer.org.</b></div><div class=\"sk-container\" hidden><div class=\"sk-item\"><div class=\"sk-estimator sk-toggleable\"><input class=\"sk-toggleable__control sk-hidden--visually\" id=\"sk-estimator-id-1\" type=\"checkbox\" checked><label for=\"sk-estimator-id-1\" class=\"sk-toggleable__label sk-toggleable__label-arrow\">LogisticRegression</label><div class=\"sk-toggleable__content\"><pre>LogisticRegression()</pre></div></div></div></div></div>"
            ]
          },
          "metadata": {},
          "execution_count": 8
        }
      ]
    },
    {
      "cell_type": "code",
      "source": [
        "y_pred = lr_model.predict(X)\n",
        "\n",
        "print(\"Prediction on training set:\", y_pred)"
      ],
      "metadata": {
        "colab": {
          "base_uri": "https://localhost:8080/"
        },
        "id": "vo80wSrqqn5J",
        "outputId": "b9683b68-c201-4ed4-ae2d-33715778e357"
      },
      "id": "vo80wSrqqn5J",
      "execution_count": 9,
      "outputs": [
        {
          "output_type": "stream",
          "name": "stdout",
          "text": [
            "Prediction on training set: [0 0 0 1 1 1]\n"
          ]
        }
      ]
    },
    {
      "cell_type": "code",
      "source": [
        "print(\"Accuracy on training set:\", lr_model.score(X, y))"
      ],
      "metadata": {
        "colab": {
          "base_uri": "https://localhost:8080/"
        },
        "id": "DCAYsryLqn2W",
        "outputId": "d388b84c-cfbe-4e4c-9a95-67bbff925f04"
      },
      "id": "DCAYsryLqn2W",
      "execution_count": 10,
      "outputs": [
        {
          "output_type": "stream",
          "name": "stdout",
          "text": [
            "Accuracy on training set: 1.0\n"
          ]
        }
      ]
    },
    {
      "cell_type": "code",
      "source": [
        "print(f\"Theta/Parameters of the model: w0 = {lr_model.coef_[0][0]}, w1 = {lr_model.coef_[0][1]}, b = {lr_model.intercept_[0]} \")"
      ],
      "metadata": {
        "colab": {
          "base_uri": "https://localhost:8080/"
        },
        "id": "TVbOj_DSqnwS",
        "outputId": "7d92f9e4-07ae-4f69-8406-b752d1aff214"
      },
      "id": "TVbOj_DSqnwS",
      "execution_count": 11,
      "outputs": [
        {
          "output_type": "stream",
          "name": "stdout",
          "text": [
            "Theta/Parameters of the model: w0 = 0.9041134943596743, w1 = 0.7358754294504456, b = -2.3337163116769677 \n"
          ]
        }
      ]
    },
    {
      "cell_type": "code",
      "source": [],
      "metadata": {
        "id": "FpD0H_oHqzEI"
      },
      "id": "FpD0H_oHqzEI",
      "execution_count": 11,
      "outputs": []
    }
  ],
  "metadata": {
    "kernelspec": {
      "display_name": "Python 3",
      "language": "python",
      "name": "python3"
    },
    "language_info": {
      "codemirror_mode": {
        "name": "ipython",
        "version": 3
      },
      "file_extension": ".py",
      "mimetype": "text/x-python",
      "name": "python",
      "nbconvert_exporter": "python",
      "pygments_lexer": "ipython3",
      "version": "3.9.10"
    },
    "colab": {
      "provenance": []
    }
  },
  "nbformat": 4,
  "nbformat_minor": 5
}