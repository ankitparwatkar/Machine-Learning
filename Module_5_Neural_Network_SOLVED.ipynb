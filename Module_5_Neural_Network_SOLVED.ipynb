{
  "cells": [
    {
      "cell_type": "markdown",
      "metadata": {
        "id": "lwYAon9r_qMn"
      },
      "source": [
        "## Simple Neural Network\n",
        "\n",
        "- Initialization: The code initializes weights randomly, sets up the input and output datasets, and defines the sigmoid activation function and its derivative.\n",
        "\n",
        "- Forward Propagation: The input data (a0) is passed through the first layer (with weights w0) using matrix multiplication and the sigmoid activation function. This gives the output of the first layer (a1). The same process is repeated for the second layer (with weights w1) to get the final output (a2).\n",
        "\n",
        "- Error Calculation: The difference between the predicted output (a2) and the actual output (y) is calculated as the error.\n",
        "\n",
        "- Back Propagation: The error is propagated back through the network to adjust the weights. The deltas (layer2_delta and layer1_delta) are calculated using the error and the derivative of the sigmoid function.\n",
        "\n",
        "- Weight Update: The weights (w1 and w0) are updated using the deltas and the outputs of the previous layers. This process is repeated for a specified number of iterations (epochs) to minimize the error.\n"
      ]
    },
    {
      "cell_type": "code",
      "execution_count": 1,
      "metadata": {
        "id": "uvvCLEqxM-sb"
      },
      "outputs": [],
      "source": [
        "import numpy as np\n",
        "import pandas as pd"
      ]
    },
    {
      "cell_type": "code",
      "execution_count": 2,
      "metadata": {
        "id": "kMKCmGtAM_f8"
      },
      "outputs": [],
      "source": [
        "# Define the sigmoid activation function and its derivative function, to use later.\n",
        "def sigmoid(x):\n",
        "  return 1 / (1 + np.exp(-x))\n",
        "\n",
        "def sigmoid_derivative(x):\n",
        "  return x * (1 - x)"
      ]
    },
    {
      "cell_type": "code",
      "execution_count": 3,
      "metadata": {
        "id": "vm7FrzPYNEJO"
      },
      "outputs": [],
      "source": [
        "# Sample Input dataset\n",
        "X = np.array([[0,0,1],\n",
        "              [0,1,1],\n",
        "              [1,0,1],\n",
        "              [1,1,1]])\n",
        "\n",
        "# Sample Output dataset\n",
        "y = np.array([[0],\n",
        "              [1],\n",
        "              [1],\n",
        "              [0]])"
      ]
    },
    {
      "cell_type": "markdown",
      "metadata": {
        "id": "jhvOUnVdVQQw"
      },
      "source": [
        "### Prepare Network and Perform Training\n",
        "\n",
        "Network Structure:\n",
        "- 3 Input features.\n",
        "- Layer 1 has 4 Nodes.\n",
        "- Layer 2 (Output Layer) has 1 Node.\n"
      ]
    },
    {
      "cell_type": "code",
      "execution_count": 4,
      "metadata": {
        "id": "0z3ygW5xNKXi"
      },
      "outputs": [],
      "source": [
        "np.random.seed(1)\n",
        "\n",
        "# Initializing weights randomly, but keeping mean of weights as zero.\n",
        "w0 = 2 * np.random.random((3,4)) - 1\n",
        "w1 = 2 * np.random.random((4,1)) - 1"
      ]
    },
    {
      "cell_type": "code",
      "execution_count": 5,
      "metadata": {
        "colab": {
          "base_uri": "https://localhost:8080/"
        },
        "id": "2NIFk0P39J5w",
        "outputId": "2728be5f-dc8b-4b68-872e-45ebcfdaf756"
      },
      "outputs": [
        {
          "name": "stdout",
          "output_type": "stream",
          "text": [
            "Error after 0 epochs:0.4964100319027255\n",
            "Error after 500 epochs:0.09929209273788298\n",
            "Error after 1000 epochs:0.0429846478107262\n",
            "Error after 1500 epochs:0.030122764096817196\n",
            "Error after 2000 epochs:0.024121949891468493\n",
            "Error after 2500 epochs:0.020542517228580404\n",
            "Error after 3000 epochs:0.01812140064567886\n",
            "Error after 3500 epochs:0.016353358605031676\n",
            "Error after 4000 epochs:0.014993830283221645\n",
            "Error after 4500 epochs:0.013908868267333544\n"
          ]
        }
      ],
      "source": [
        "# To collect errors for plotting later\n",
        "errors = []\n",
        "\n",
        "\n",
        "# Iterate over 5000 epochs/times (epoch is the mainstream/official term for 1 iteration of forward+backprop)\n",
        "for i in range(5000):\n",
        "\n",
        "  # Forward propagation\n",
        "  #############################################\n",
        "  # Hint: Use numpy dot operation and above implemented sigmoid\n",
        "  #\n",
        "\n",
        "  a0 = X\n",
        "  a1 = sigmoid(np.dot(a0,w0))\n",
        "  a2 = sigmoid(np.dot(a1,w1))\n",
        "\n",
        "  #\n",
        "  #############################################\n",
        "\n",
        "  # Calculate the error in model output(layer2)\n",
        "  #############################################\n",
        "  #\n",
        "\n",
        "  output_error = a2 - y\n",
        "\n",
        "  #\n",
        "  #############################################\n",
        "\n",
        "\n",
        "  # Storing the error for every epoch\n",
        "  errors.append({\n",
        "    \"epochs\": i,\n",
        "    \"error\": np.mean(np.abs(output_error))\n",
        "  })\n",
        "  # Printing the error every 500 steps\n",
        "  if (i % 500) == 0:\n",
        "    print(\"Error after \"+str(i)+\" epochs:\" + str(np.mean(np.abs(output_error))))\n",
        "  # Back propagate the error\n",
        "  layer2_delta = output_error * sigmoid_derivative(a2)\n",
        "  layer1_error = layer2_delta.dot(w1.T)\n",
        "  layer1_delta = layer1_error * sigmoid_derivative(a1)\n",
        "\n",
        "\n",
        "  # Update weights using the layer delta\n",
        "  #############################################\n",
        "  # Hint: a^T * layer_delta\n",
        "  #\n",
        "\n",
        "  w1 -= a1.T.dot(layer2_delta)\n",
        "  w0 -= a0.T.dot(layer1_delta)\n",
        "\n",
        "  #\n",
        "  #############################################"
      ]
    },
    {
      "cell_type": "code",
      "execution_count": 7,
      "metadata": {
        "colab": {
          "base_uri": "https://localhost:8080/",
          "height": 489
        },
        "id": "N-hj2S-uRHN5",
        "outputId": "a795da69-9335-4be6-e44e-4483b612280e"
      },
      "outputs": [
        {
          "data": {
            "text/plain": [
              "<Axes: title={'center': 'Error in the network while training the model'}, xlabel='epochs'>"
            ]
          },
          "execution_count": 7,
          "metadata": {},
          "output_type": "execute_result"
        },
        {
          "data": {
            "image/png": "[encoded data removed]",
            "text/plain": [
              "<Figure size 640x480 with 1 Axes>"
            ]
          },
          "metadata": {},
          "output_type": "display_data"
        }
      ],
      "source": [
        "pd.DataFrame(errors).plot(x='epochs', y='error', title = 'Error in the network while training the model')"
      ]
    }
  ],
  "metadata": {
    "colab": {
      "provenance": []
    },
    "kernelspec": {
      "display_name": "Python 3",
      "name": "python3"
    },
    "language_info": {
      "codemirror_mode": {
        "name": "ipython",
        "version": 3
      },
      "file_extension": ".py",
      "mimetype": "text/x-python",
      "name": "python",
      "nbconvert_exporter": "python",
      "pygments_lexer": "ipython3",
      "version": "3.12.6"
    }
  },
  "nbformat": 4,
  "nbformat_minor": 0
}
