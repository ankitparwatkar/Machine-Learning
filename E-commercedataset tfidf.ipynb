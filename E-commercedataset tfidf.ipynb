{
 "cells": [
  {
   "cell_type": "code",
   "execution_count": 2,
   "metadata": {},
   "outputs": [],
   "source": [
    "import pandas as pd"
   ]
  },
  {
   "cell_type": "code",
   "execution_count": 3,
   "metadata": {},
   "outputs": [
    {
     "name": "stderr",
     "output_type": "stream",
     "text": [
      "<>:1: SyntaxWarning: invalid escape sequence '\\m'\n",
      "<>:1: SyntaxWarning: invalid escape sequence '\\m'\n",
      "C:\\Users\\ankit\\AppData\\Local\\Temp\\ipykernel_10188\\3266250460.py:1: SyntaxWarning: invalid escape sequence '\\m'\n",
      "  df = pd.read_csv(\"E:\\movie imdb\\ecommerceDataset.csv\",names=['category','text'])\n"
     ]
    }
   ],
   "source": [
    "df = pd.read_csv(\"E:\\movie imdb\\ecommerceDataset.csv\",names=['category','text'])"
   ]
  },
  {
   "cell_type": "code",
   "execution_count": 4,
   "metadata": {},
   "outputs": [
    {
     "data": {
      "application/vnd.microsoft.datawrangler.viewer.v0+json": {
       "columns": [
        {
         "name": "index",
         "rawType": "int64",
         "type": "integer"
        },
        {
         "name": "category",
         "rawType": "object",
         "type": "string"
        },
        {
         "name": "text",
         "rawType": "object",
         "type": "unknown"
        }
       ],
       "conversionMethod": "pd.DataFrame",
       "ref": "887c8ab5-063c-40c8-894f-85fbf8afe09e",
       "rows": [
        [
         "0",
         "Household",
         "Paper Plane Design Framed Wall Hanging Motivational Office Decor Art Prints (8.7 X 8.7 inch) - Set of 4 Painting made up in synthetic frame with uv textured print which gives multi effects and attracts towards it. This is an special series of paintings which makes your wall very beautiful and gives a royal touch. This painting is ready to hang, you would be proud to possess this unique painting that is a niche apart. We use only the most modern and efficient printing technology on our prints, with only the and inks and precision epson, roland and hp printers. This innovative hd printing technique results in durable and spectacular looking prints of the highest that last a lifetime. We print solely with top-notch 100% inks, to achieve brilliant and true colours. Due to their high level of uv resistance, our prints retain their beautiful colours for many years. Add colour and style to your living space with this digitally printed painting. Some are for pleasure and some for eternal bliss.so bring home this elegant print that is lushed with rich colors that makes it nothing but sheer elegance to be to your friends and family.it would be treasured forever by whoever your lucky recipient is. Liven up your place with these intriguing paintings that are high definition hd graphic digital prints for home, office or any room."
        ],
        [
         "1",
         "Household",
         "SAF 'Floral' Framed Painting (Wood, 30 inch x 10 inch, Special Effect UV Print Textured, SAO297) Painting made up in synthetic frame with UV textured print which gives multi effects and attracts towards it. This is an special series of paintings which makes your wall very beautiful and gives a royal touch (A perfect gift for your special ones)."
        ],
        [
         "2",
         "Household",
         "SAF 'UV Textured Modern Art Print Framed' Painting (Synthetic, 35 cm x 50 cm x 3 cm, Set of 3) Color:Multicolor                                                                                 |                            Size:35 cm x 50 cm x 3 cm   Overview a beautiful painting involves the action or skill of using paint in the right manner; hence, the end product will be a picture that can speak a thousand words they say. Arts have been in trend for quite some time now. It can give different viewer different meanings style and design the SAF wood matte abstract painting with frame is quite abstract and mysteriously beautiful. The painting has a nice frame to it. You can gift this to a family or a friend. The painting has various forms of certain figures on it as seen in the image. You can add a good set of lights to the place where the painting is and the decor will give a different feel and look to the place. Quality and durability the painting has a matte finish and includes a good quality frame and will last for a long period. However, it does not include glass along with the frame. Specifications you can purchase SAF wood matte abstract painting with frame on amazon.in. It is the most customer-friendly platform with a wide range of products to choose from, and shopping is just a click away!"
        ],
        [
         "3",
         "Household",
         "SAF Flower Print Framed Painting (Synthetic, 13.5 inch x 22 inch, UV Textured, Set of 3, SANFSW4951) Color:Multicolor                                                                                 |                            Size:35 cm x 50 cm x 2 cm   A beautiful painting involves the action or skill of using paint in the right manner, hence, the end product will be a picture that can speak a thousand words they say. Arts have been in trend for quite some time now. It can give different viewer different meanings style and design the saf wood matte painting with frame is quite abstract and mysteriously beautiful. The painting has a nice frame to it. You can gift this to a family or a friend. The painting has various forms of certain figures on it as seen in the image. You can add a good set of lights to the place where the painting is and the decor will give a different feel and look to the place. Quality and durability the painting has a matte finish and includes a good quality frame and will last for a long period. However, it does not include glass along with the frame."
        ],
        [
         "4",
         "Household",
         "Incredible Gifts India Wooden Happy Birthday Unique Personalized Gift (5 X 4 Inch) Size:4 x 5   Made Of Natural Imported Wood, Which Is Quite Solid With Light Particle Pattern & Is Soft Pale To Blond Colour. Your Uploaded Photo Will Look Amazing And Beautiful After Laser Engraving On It. This Is One Of The Most Popular Unique Gifts In Our Store. We Offer This In Multiple Sizes, Some Can Be Used As Table Top And The Big Sizes Can Be Used As Wall Hanging Which Just Blends With Your Home Decaration. You Just Need To Upload A Picture And Add Your Own Text And We Will Do The Rest For You. We Will Email You The Preview Before Making The Final Product. Do You Want The Best Moment Of Your Life To Be Engraved On A Wooden Plaque That Lasts For A Longer Time And Stays Close To You Forever? Then You Are At The Right Place. We Present To You Various Sizes Personalized Engraved Wooden Plaques Made With Birch Wood. Let Your Memories Be Engraved On Wooden Plaques And Stay With Your Forever."
        ],
        [
         "5",
         "Household",
         "Pitaara Box Romantic Venice Canvas Painting 6mm Thick Mdf Frame 21.1 X 14Inch Enclosure Material:MDF Mount Frame                                                                                 |                            Size:21.1inch x 14inch (53.6cms x 35.6cms)   SIZE: 21.1 inch x 14.0 inch (53.6 cms x 35.6 cms)  Enhance the beauty of your room walls with this breathtaking digital printed artwork. Our high-end printing technology captures every detail of the image in our prints on enhanced matte painting canvas, ensuring rich and lively colours. This wall art panel is mounted on MDF and ready to hang on walls. Beautiful interior home d©cor artwork gifts for Living, Dining Room, Outdoor, Gallery, Hotels, Restaurants, Office, Reception, Kitchen Area, Balcony and Bathroom.  Pitaara Box offers an exclusive collection of thousands of artworks, digital paintings, canvas prints, wall posters, and other wall decor products for your home, office, and surroundings. We provide a never-ending range of creative and spectacular art products, which can be used for gifting on every occasion and every season.  TAGS: wall, paintings, canvas, prints, modern, art, abstract, designer, wallart, artwork, home, bedroom, dining, living, drawing, room, digital, printing, bathroom, common, area, kitchen, office, decorative, stretch, stretched, framed, framing, beautiful, classy, royal, special, unique, elegant, stylish, creative, affordable, best, photo, gifts, fabrics, balcony, interior, exterior, outdoor, gallery, hotels, restaurants, colourful, colorful, small, large, extra large, oversized, hangings, giant, slim, durable, waterproof, buy, shop, purchase, decor, online, Places, Vintage, Canvas, romantic, Venice, artwork, painting, style"
        ],
        [
         "6",
         "Household",
         "Paper Plane Design Starry Night Vangoh Wall Art Canvas Painting. Large Size Rolled Canvas Art Print (36\" X 48\") We use only the most modern and efficient printing technology on our canvases, with only the best and original inks and precision Epson< Roland and HP printers. This innovative HD printing technique results in durable and spectacular looking prints of the highest quality that last a lifetime. We print solely with top-notch inks, to achieve brilliant and true colours. Due to their high level of UV Resistance, our Canvas prints retain their beautiful colours for many years. Our canvases contain high levels of white, to ensure that the colours of your original image are reproduced exactly, with brilliant tones. Add colour and style to your living space with this digitally printed canvas painting. Some gifts are for pleasure and some for eternal bliss.So bring home this elegant Canvas print that is lushed with Rich colors that makes it nothing but sheer elegance to be gifted to your friends and family.It would be treasured forever by whoever your lucky recipient is. Liven up your place with these intriguing paintings on canvas that are high definition hd graphic digital prints for home, office or any room. A perfect size of 36 inches x 48 inches suits every size of space and are a great match with every architectural setting. We prove raw canvas prints with special left extra margins for any type of framing required which you can get done as you please. Art comes in a safe delivery tube. prints are made using latest technology and original inks to get a perfect colour and long lasting design."
        ],
        [
         "7",
         "Household",
         "Pitaara Box Romantic Venice Canvas Painting 6mm Thick Mdf Frame 21.1 X 14Inch Enclosure Material:MDF Mount Frame                                                                                 |                            Size:21.1inch x 14inch (53.6cms x 35.6cms)   SIZE: 21.1 inch x 14.0 inch (53.6 cms x 35.6 cms)  Enhance the beauty of your room walls with this breathtaking digital printed artwork. Our high-end printing technology captures every detail of the image in our prints on enhanced matte painting canvas, ensuring rich and lively colours. This wall art panel is mounted on MDF and ready to hang on walls. Beautiful interior home d©cor artwork gifts for Living, Dining Room, Outdoor, Gallery, Hotels, Restaurants, Office, Reception, Kitchen Area, Balcony and Bathroom.  Pitaara Box offers an exclusive collection of thousands of artworks, digital paintings, canvas prints, wall posters, and other wall decor products for your home, office, and surroundings. We provide a never-ending range of creative and spectacular art products, which can be used for gifting on every occasion and every season.  TAGS: wall, paintings, canvas, prints, modern, art, abstract, designer, wallart, artwork, home, bedroom, dining, living, drawing, room, digital, printing, bathroom, common, area, kitchen, office, decorative, stretch, stretched, framed, framing, beautiful, classy, royal, special, unique, elegant, stylish, creative, affordable, best, photo, gifts, fabrics, balcony, interior, exterior, outdoor, gallery, hotels, restaurants, colourful, colorful, small, large, extra large, oversized, hangings, giant, slim, durable, waterproof, buy, shop, purchase, decor, online, Places, Vintage, Canvas, romantic, Venice, artwork, painting, style"
        ],
        [
         "8",
         "Household",
         "SAF 'Ganesh Modern Art Print' Painting (Synthetic, 35 cm x 50 cm x 2 cm, Set of 3) Color:Multicolor   Overview a beautiful painting involves the action or skill of using paint in the right manner; hence, the end product will be a picture that can speak a thousand words they say. Arts have been in trend for quite some time now. It can give different viewer different meanings style and design the SAF wood matte abstract painting with frame is quite abstract and mysteriously beautiful. The painting has a nice frame to it. You can gift this to a family or a friend. The painting has various forms of certain figures on it as seen in the image. You can add a good set of lights to the place where the painting is and the decor will give a different feel and look to the place. Quality and durability the painting has a matte finish and includes a good quality frame and will last for a long period. However, it does not include glass along with the frame. Specifications you can purchase SAF wood matte abstract painting with frame on amazon.in. It is the most customer-friendly platform with a wide range of products to choose from, and shopping is just a click away!"
        ],
        [
         "9",
         "Household",
         "Paintings Villa UV Textured Modern Art Print Framed Painting Home Decoration - Size 35 X 2 X 50 cm Paintings Villa UV Textured Modern Art Print Framed Painting Home Decoration - Size 35 X 2 X 50 cm Decorate your home and office walls with these artistic design satin matt texture framed UV art print from MAV. Each design reflects the artistic qualities and time one has taken to design this poster. Exquisitely printed and framed it is also a perfect gifting option for your colleagues loved ones and family members. These frames don't include glass so it is very light weight and wet cloth can be used to clean it."
        ],
        [
         "10",
         "Household",
         "Painting Mantra Art Street - Jardin Bird Framed Art Print Set of 4 Black (10 x 10 inch) Color:Color - Black ||Theme - Jardin Black   Breath new life into your home and office with this original painting re-print. These high quality printed canvas are of size 10 inch by 10 inch, comes framed and ready to hang. Note: Print doesn't need any glass for protection and hence this comes without the glass."
        ],
        [
         "11",
         "Household",
         "Paper Plane Design Starry Night Vangoh Wall Art Canvas Painting. Large Size Rolled Canvas Art Print (36\" X 48\") We use only the most modern and efficient printing technology on our canvases, with only the best and original inks and precision Epson< Roland and HP printers. This innovative HD printing technique results in durable and spectacular looking prints of the highest quality that last a lifetime. We print solely with top-notch inks, to achieve brilliant and true colours. Due to their high level of UV Resistance, our Canvas prints retain their beautiful colours for many years. Our canvases contain high levels of white, to ensure that the colours of your original image are reproduced exactly, with brilliant tones. Add colour and style to your living space with this digitally printed canvas painting. Some gifts are for pleasure and some for eternal bliss.So bring home this elegant Canvas print that is lushed with Rich colors that makes it nothing but sheer elegance to be gifted to your friends and family.It would be treasured forever by whoever your lucky recipient is. Liven up your place with these intriguing paintings on canvas that are high definition hd graphic digital prints for home, office or any room. A perfect size of 36 inches x 48 inches suits every size of space and are a great match with every architectural setting. We prove raw canvas prints with special left extra margins for any type of framing required which you can get done as you please. Art comes in a safe delivery tube. prints are made using latest technology and original inks to get a perfect colour and long lasting design."
        ],
        [
         "12",
         "Household",
         "Pitaara Box Romantic Venice Canvas Painting 6mm Thick Mdf Frame 21.1 X 14Inch Enclosure Material:MDF Mount Frame                                                                                 |                            Size:21.1inch x 14inch (53.6cms x 35.6cms)   SIZE: 21.1 inch x 14.0 inch (53.6 cms x 35.6 cms)  Enhance the beauty of your room walls with this breathtaking digital printed artwork. Our high-end printing technology captures every detail of the image in our prints on enhanced matte painting canvas, ensuring rich and lively colours. This wall art panel is mounted on MDF and ready to hang on walls. Beautiful interior home d©cor artwork gifts for Living, Dining Room, Outdoor, Gallery, Hotels, Restaurants, Office, Reception, Kitchen Area, Balcony and Bathroom.  Pitaara Box offers an exclusive collection of thousands of artworks, digital paintings, canvas prints, wall posters, and other wall decor products for your home, office, and surroundings. We provide a never-ending range of creative and spectacular art products, which can be used for gifting on every occasion and every season.  TAGS: wall, paintings, canvas, prints, modern, art, abstract, designer, wallart, artwork, home, bedroom, dining, living, drawing, room, digital, printing, bathroom, common, area, kitchen, office, decorative, stretch, stretched, framed, framing, beautiful, classy, royal, special, unique, elegant, stylish, creative, affordable, best, photo, gifts, fabrics, balcony, interior, exterior, outdoor, gallery, hotels, restaurants, colourful, colorful, small, large, extra large, oversized, hangings, giant, slim, durable, waterproof, buy, shop, purchase, decor, online, Places, Vintage, Canvas, romantic, Venice, artwork, painting, style"
        ],
        [
         "13",
         "Household",
         "Painting Mantra 'Vintage Car' Art Printing Set (Synthetic Wood, 60 cm x 50 cm x 2 cm, Brown, Set of 4) Size:60 cm x 50 cm x 2 cm   From the house of art street, we bring this exclusive framed poster to satiate the taste of decor freaks and vintage cars lovers. The filling station-vintage car brown framed poster is a high resolution vintage poster which comes covered in a brown frame. Hang the framed posters depicting image of a car from the nostalgic era on your favourite wall and make it look colourful and vibrant. The product is durable and of high quality. Presented to you with love from art street."
        ],
        [
         "14",
         "Household",
         "Indianara Motivational Square Synthetic Wood Art Painting (23 cm x 23 cm x 6 cm, Set of 4, Multicolor)"
        ],
        [
         "15",
         "Household",
         "Tamatina Fabric Raja Ravi Varma Hamsa Damyanthi Academic Art Decor Canvas Paintings (Multicolour) Size:Large/23x35 inches   We at tamatina-tm are excited to bring you a fine line of canvas paintings. We work very hard, hand picking designs best suited for canvas art ; then fine tuning images ; trials till we achieve what we can impress you with. We just want you to feel awesome, when you admire it hanging on the wall. Br about the canvas ; digital print: b br ; polyester cotton canvas fabric, hand-picked for each design for best output. It is built to absorb machine print ink ; brings a glorious visual once done. Digital printers we use are designed for fine art reproduction ; our inks are only oil based for that gorgeous finish. they are easy to maintain ; clean as the colors are digitally embedded on the canvas. You don't need a glass for saving the painting from dust as the painting can be cleaned with damp cloth once in a while ; no colors would come off. br ; for more info. Display image is digital, print would have a canvas effect."
        ],
        [
         "16",
         "Household",
         "SAF Flower Print Framed Painting (Synthetic, 13.5 inch x 22 inch, UV Textured, Set of 3, SANFSW4951) Color:Multicolor                                                                                 |                            Size:35 cm x 50 cm x 2 cm   A beautiful painting involves the action or skill of using paint in the right manner, hence, the end product will be a picture that can speak a thousand words they say. Arts have been in trend for quite some time now. It can give different viewer different meanings style and design the saf wood matte painting with frame is quite abstract and mysteriously beautiful. The painting has a nice frame to it. You can gift this to a family or a friend. The painting has various forms of certain figures on it as seen in the image. You can add a good set of lights to the place where the painting is and the decor will give a different feel and look to the place. Quality and durability the painting has a matte finish and includes a good quality frame and will last for a long period. However, it does not include glass along with the frame."
        ],
        [
         "17",
         "Household",
         "Posterhouzz Comics Superhero Thor Joker Black Panther Ultron Daredevil Deadpool Flash STA. Fine Art Paper Print Poster_** ABO397 Creative, digitally printed paper posters for your home or office. Funny, inspiring and lovable designs to choose from. This Poster Is for framing. Spruce up your home with a fantastic of Wall Art from Posterhouzz."
        ],
        [
         "18",
         "Household",
         "ART DIOR | Set of 3 Modern Art Prints - Winter Tree Printed on a Single Print | Canvas Wall Art | Unframed Canvas Art Print| 18 inch x 46 inch Enclosure Material:Canvas Art Print                                                                                 |                            Size:18\" x 46\" Art Print Only   Giclée art from Creative team of Art Dior. Printed by dedicated art printer on Epson 9900 on very specialized coated canvas to bring out brush stroke details, brilliance of colors, dimensional stability and lasting colors for archival use. Add soul to your walls, add volumes of euphoric feel once properly framed and displayed on Living, Drawing & Dining Room, Gallery, Hotels, Bar, Lounge, Restaurants, Office, Reception, Kitchen Area, Bathroom. Packed with utmost care for mint fresh condition delivery. Art prints are of very specialized fine ink quality and color gamut to maintain color depth and brilliance, direct sunlight should be avoided. Please confirm size before placing any order. TERMS & CONDITIONS BEFORE PLACING YOUR ORDER: 1. Product colours remains closest to as shown in the product image but may vary slightly when viewed on different monitors or screens. Please check product specifications and size thoroughly before placing your order. 2. If buyer wants to return the product, then return courier charges will be borne by the buyer. 3. Refund process will be Initiated only when the vendor gets custody of the returned product in it's orignal packaging & labels. 4. Refund will only be initated if there is a manufacturing defect or if the product was damaged in transit. No refunds will be initiated if the product returned is physically or chemically tampered with. 5. Framed Art Prints will only be compensated if damaged in transit."
        ],
        [
         "19",
         "Household",
         "ART DIOR | Dancing Village Girls | Canvas Wall Art | Unframed Canvas Art Print | 18 inch x 46 inch | Enclosure Material:Canvas Art Print                                                                                 |                            Size:18\" x 46\" Art Print Only   Giclée art from Creative team of Art Dior. Printed by dedicated art printer on Epson 9900 on very specialized coated canvas to bring out brush stroke details, brilliance of colors, dimensional stability and lasting colors for archival use. Add soul to your walls, add volumes of euphoric feel once properly framed and displayed on Living, Drawing & Dining Room, Gallery, Hotels, Bar, Lounge, Restaurants, Office, Reception, Kitchen Area, Bathroom. Packed with utmost care for mint fresh condition delivery. Art prints are of very specialized fine ink quality and color gamut to maintain color depth and brilliance, direct sunlight should be avoided. Please confirm size before placing any order. TERMS & CONDITIONS BEFORE PLACING YOUR ORDER: 1. Product colours remains closest to as shown in the product image but may vary slightly when viewed on different monitors or screens. Please check product specifications and size thoroughly before placing your order. 2. If buyer wants to return the product, then return courier charges will be borne by the buyer. 3. Refund process will be Initiated only when the vendor gets custody of the returned product in it's orignal packaging & labels. 4. Refund will only be initated if there is a manufacturing defect or if the product was damaged in transit. No refunds will be initiated if the product returned is physically or chemically tampered with. 5. Framed Art Prints will only be compensated if damaged in transit."
        ],
        [
         "20",
         "Household",
         "SAF 'UV Textured Modern Art Print Framed' Painting (Synthetic, 35 cm x 50 cm x 3 cm, Set of 3) Color:Multicolor                                                                                 |                            Size:35 cm x 50 cm x 3 cm   Overview a beautiful painting involves the action or skill of using paint in the right manner; hence, the end product will be a picture that can speak a thousand words they say. Arts have been in trend for quite some time now. It can give different viewer different meanings style and design the SAF wood matte abstract painting with frame is quite abstract and mysteriously beautiful. The painting has a nice frame to it. You can gift this to a family or a friend. The painting has various forms of certain figures on it as seen in the image. You can add a good set of lights to the place where the painting is and the decor will give a different feel and look to the place. Quality and durability the painting has a matte finish and includes a good quality frame and will last for a long period. However, it does not include glass along with the frame. Specifications you can purchase SAF wood matte abstract painting with frame on amazon.in. It is the most customer-friendly platform with a wide range of products to choose from, and shopping is just a click away!"
        ],
        [
         "21",
         "Household",
         "SAF 'Floral' Framed Painting (Wood, 30 inch x 10 inch, Special Effect UV Print Textured, SAO297) Painting made up in synthetic frame with UV textured print which gives multi effects and attracts towards it. This is an special series of paintings which makes your wall very beautiful and gives a royal touch (A perfect gift for your special ones)."
        ],
        [
         "22",
         "Household",
         "Incredible Gifts India Wooden Happy Birthday Unique Personalized Gift (5 X 4 Inch) Size:4 x 5   Made Of Natural Imported Wood, Which Is Quite Solid With Light Particle Pattern & Is Soft Pale To Blond Colour. Your Uploaded Photo Will Look Amazing And Beautiful After Laser Engraving On It. This Is One Of The Most Popular Unique Gifts In Our Store. We Offer This In Multiple Sizes, Some Can Be Used As Table Top And The Big Sizes Can Be Used As Wall Hanging Which Just Blends With Your Home Decaration. You Just Need To Upload A Picture And Add Your Own Text And We Will Do The Rest For You. We Will Email You The Preview Before Making The Final Product. Do You Want The Best Moment Of Your Life To Be Engraved On A Wooden Plaque That Lasts For A Longer Time And Stays Close To You Forever? Then You Are At The Right Place. We Present To You Various Sizes Personalized Engraved Wooden Plaques Made With Birch Wood. Let Your Memories Be Engraved On Wooden Plaques And Stay With Your Forever."
        ],
        [
         "23",
         "Household",
         "Posterhouzz Comics Superhero Thor Joker Black Panther Ultron Daredevil Deadpool Flash STA. Fine Art Paper Print Poster_** ABO397 Creative, digitally printed paper posters for your home or office. Funny, inspiring and lovable designs to choose from. This Poster Is for framing. Spruce up your home with a fantastic of Wall Art from Posterhouzz."
        ],
        [
         "24",
         "Household",
         "Indianara Motivational Square Synthetic Wood Art Painting (23 cm x 23 cm x 6 cm, Set of 4, Multicolor)"
        ],
        [
         "25",
         "Household",
         "Painting Mantra Synthetic Wood Art Street Tropical Framed Canvas Art Print (11 X 13 inch, Green) Color:color - green|| theme - tropical green   Make a blank space pop with rad art prints. Better yet, start a gallery wall and mix art prints, posters, canvas prints and framed prints of all sizes to elevate your space with the design. This art print is printed on gallery canvas natural white color, matte, and ultra smooth texture. Box frame used which highlight the print even more."
        ],
        [
         "26",
         "Household",
         "ART DIOR | 8 Running Horses | Canvas Wall Art | Unframed Canvas Art Print | 18 inch x 46 inch | Enclosure Material:Canvas Art Print                                                                                 |                            Size:18\" x 46\" Art Print Only   Giclée art from Creative team of Art Dior. Printed by dedicated art printer on Epson 9900 on very specialized coated canvas to bring out brush stroke details, brilliance of colors, dimensional stability and lasting colors for archival use. Add soul to your walls, add volumes of euphoric feel once properly framed and displayed on Living, Drawing & Dining Room, Gallery, Hotels, Bar, Lounge, Restaurants, Office, Reception, Kitchen Area, Bathroom. Packed with utmost care for mint fresh condition delivery. Art prints are of very specialized fine ink quality and color gamut to maintain color depth and brilliance, direct sunlight should be avoided. Please confirm size before placing any order. TERMS & CONDITIONS BEFORE PLACING YOUR ORDER: 1. Product colours remains closest to as shown in the product image but may vary slightly when viewed on different monitors or screens. Please check product specifications and size thoroughly before placing your order. 2. If buyer wants to return the product, then return courier charges will be borne by the buyer. 3. Refund process will be Initiated only when the vendor gets custody of the returned product in it's orignal packaging & labels. 4. Refund will only be initated if there is a manufacturing defect or if the product was damaged in transit. No refunds will be initiated if the product returned is physically or chemically tampered with. 5. Framed Art Prints will only be compensated if damaged in transit."
        ],
        [
         "27",
         "Household",
         "Painting Mantra Synthetic Wood Art Street Tropical Framed Canvas Art Print (11 X 13 inch, Green) Color:color - green|| theme - tropical green   Make a blank space pop with rad art prints. Better yet, start a gallery wall and mix art prints, posters, canvas prints and framed prints of all sizes to elevate your space with the design. This art print is printed on gallery canvas natural white color, matte, and ultra smooth texture. Box frame used which highlight the print even more."
        ],
        [
         "28",
         "Household",
         "Streetkart Women's & Girl's Traditional Kutchi Art Work Sling Bag/Fashionable Sling Bag for Women/Stylish Polyester Sling Bag for Casual & Formal Wear Give you new look by carry this Hand-crafted embroidered Sling Bag from the house of Streetkart .This handbag are specially design by Artisans from kutchh .This is one of the most stylish and popular design of Sling Bag, suitable for both young girls and women. Stylish Sling perfect for parties and clubbing, or for casual daily use.This Bag Is Great Choice To Keep For All Girls And Women, It Makes A Fashion Statement And Provide A Fancy Space To Keep All Your Daily Essential.FEATURES :- The styling and warm colour reflects the latest season's trends.The Straps Facilitate An Effortless Portability.♥ This Sling bag Will Go Well With Formals And Casuals As Well. It brings you more casual or party feel and happy to carry it all the time.It comes with Stylish Solid Pattern A fashion bag full of personality, convenient for you to hold cash, coin, keys, Cellphone, cards .Perfect for all ages. Care Instructions: Do not expose to extreme heat and wipe with damp cloth ."
        ],
        [
         "29",
         "Household",
         "SAF 'Buddha Religious' Painting (Synthetic, 13.5 inch x 22 inch, SA30) Color:multicolour                                                                                 |                            Size:35 cm x 3 cm x 50 cm   It is a textured effect canvas print with UV which gives a multi-effect. It is in a Italian designed frame in a synthetic material."
        ],
        [
         "30",
         "Household",
         "SAF Framed Painting (Wood, 15 inch x 18 inch, Set of 3) Painting made up in synthetic frame with UV textured print which gives multi-effects and attracts towards it. This is an special series of paintings which makes your wall very beautiful and gives a royal touch. A perfect gift for your special ones."
        ],
        [
         "31",
         "Household",
         "Paintings Villa UV Textured Modern Art Print Framed Painting Home Decoration - Size 35 X 2 X 50 cm Paintings Villa UV Textured Modern Art Print Framed Painting Home Decoration - Size 35 X 2 X 50 cm Decorate your home and office walls with these artistic design satin matt texture framed UV art print from MAV. Each design reflects the artistic qualities and time one has taken to design this poster. Exquisitely printed and framed it is also a perfect gifting option for your colleagues loved ones and family members. These frames don't include glass so it is very light weight and wet cloth can be used to clean it."
        ],
        [
         "32",
         "Household",
         "SAF Premium Butterfly Diamond Cut 4 Panel Ink Painting (Synthetic, 57 cm x 101 cm x 2 cm, Set of 4) Overview a beautiful painting involves the action or skill of using paint in the right manner. Hence, the end product will be a picture that can speak a thousand words they say. Arts have been in trend for quite some time now. It can give different viewer different meanings style and design the SAF wood matte abstract painting with frame is quite abstract and mysteriously beautiful. The painting has a nice frame to it. You can gift this to a family or a friend. The painting has various forms of certain figures on it as seen in the image. You can add a good set of lights to the place where the painting is, and the decor will give a different feel and look to the place. Quality and durability the painting has a matte finish and includes a good quality frame, and will last for a long period. However, it does not include glass along with the frame. Specifications You can purchase SAF wood matte abstract painting with frame on amazon.in. It is the most customer friendly platform with a wide range of products to choose from, and shopping is just a click away."
        ],
        [
         "33",
         "Household",
         "Art Street Shooting Star Set of 16 Individual Photo Frame- Multiple Size (3 Units of 8x10, 4 Units of 6x8, 4 Units of 5x7, 3 Units of 4x6, 2 Units of 6x10) live your golden memories by decorating your place with photographs. Bright colours and specially handcrafted artistic make, give these pieces a vibrant and modish touch to the plain walls of your living space. Give a personalized touch to your gifts by picking one of these pieces."
        ],
        [
         "34",
         "Household",
         "Indianara Square Synthetic Wood Framed Wall Hanging Art Painting (22.49 cm x 22.49 cm x 3.5 cm, Set of 4) Adorn the walls of your living space with this exquisitely made, aesthetically pleasing, and visually stimulating 4 piece set of framed wall hanging art print. The frames are made of brown synthetic wood and will breathe a fresh life in the walls of your room. It will also make a thoughtful and unique gift for your loved ones on special occasions such as birthdays::wedding anniversary::house warming ceremony and festivals."
        ],
        [
         "35",
         "Household",
         "SAF 'Ganesha' Framed Painting (Wood, 12 inch x 12 inch)"
        ],
        [
         "36",
         "Household",
         "SAF 'Flower Floral' Painting (Synthetic, 13.5 inch x 22 inch) Color:Multicolour                                                                                 |                            Size:35 cm x 3 cm x 38 cm   It is a textured effect canvas print with UV which gives a multi-effect. It is in a Italian designed frame in a synthetic material."
        ],
        [
         "37",
         "Household",
         "SAF 'Ganesha' Painting (Wood, 12 inch x 12 inch, Special Effect Textured, SAO97) Painting made up in synthetic frame with UV textured print which gives multi-effects and attracts towards it. This is an special series of paintings which makes your wall very beautiful and gives a royal touch. A perfect gift for your special ones."
        ],
        [
         "38",
         "Household",
         "SAF 'Radha Krishna' Wall Painting (Synthetic, 30 cm x 30 cm x 2 cm) Overview a beautiful painting involves the action or skill of using paint in the right manner; hence, the end product will be a picture that can speak a thousand words they say. Arts have been in trend for quite some time now. It can give different viewer different meanings style and design the saf wood matte abstract painting with frame is quite abstract and mysteriously beautiful. The painting has a nice frame to it. You can gift this to a family or a friend. The painting has various forms of certain figures on it as seen in the image. You can add a good set of lights to the place where the painting is and the decor will give a different feel and look to the place. Quality and durability the painting has a matte finish and includes a frame and will last for a long period. However, it does not include glass along with the frame."
        ],
        [
         "39",
         "Household",
         "SAF 'Ganesh' Framed Painting (Synthetic, 13.5 inch x 22 inch, Modern Art Wood, Set of 3, SANFSAS7500) Special series of high definition prints is designed in a very extraordinary way by using a quality of eye popping colors which puts a very attracting reflection towards it. Also it is framed in Black Synthetic Frame in a Italian Design. A perfect choice for your Home & for your specials."
        ],
        [
         "40",
         "Household",
         "Sehaz Artworks 'Our Memories' Pasted Wood Photo Album (22 cm x 16 cm x 4 cm, Brown) Color:OurMemo   Paper material, inside pages high quality black card. Square Size: 26cm x 16cm. Inside pages number 30 pages. (Each page can be double-sided use). Capacity: Totally depends on your photo size, 5 inch, 6 inch 2 per surface, 7 inch 1 per surface, 8 inch 1 per surface, other abnormal size requires that you own album. Use: Love log, travel log, baby growth record, family journal, works in this episode, exclusive course, learning materials and newspapers and magazines in this collection, creative gift. Result Pages: 30 pages. Weight: 0.5 kg."
        ],
        [
         "41",
         "Household",
         "Sehaz Artworks Side Shelf Pocket Wooden Key Holder (25 cm x 11 cm x 0.3 cm, Brown) Color:Side-ShelfPocket-Brown-KeyHolder   It is real trouble when you lose your keys. You have to make little space in your house where you can put your keys. So be creative and make that space interesting and stylish by Sehaz Artworks key holder that will awake your imagination. We present you 7 hooks Sehaz Artworks key holder."
        ],
        [
         "42",
         "Household",
         "Sehaz Artworks Home-Side-Shelf-WT-KeyHolder Wooden Key Holder (7 Hooks) Sehaz Artworks Home Side Shelf with Wooden Key Holder. It has 7 hooks and is in brown colour."
        ],
        [
         "43",
         "Household",
         "SAF 'Ganesha' Framed Painting (Wood, 12 inch x 12 inch)"
        ],
        [
         "44",
         "Household",
         "Sehaz Artworks 'Colourful Dog' Wall Sticker (Vinyl, 30 cm x 3 cm x 3 cm) The Sehaz Artworks vinyl sticker an affordable and fun way to decorate. Can be applied to your wall, door, mirror, tile, stainless steel, glass, plastic or any smooth or semi smooth, non-porous, clean surface. These are applied like a large sticker and give you the look of stenciling without all the paint mess! These do not have a background of any kind. Just the artwork stuck to your surface and then your surface color will show around the letters or art. These decals can be removed but not reused. You may find some difficulty applying vinyl to porous or chalk like surfaces such as stone, as well as painted surfaces in which a flat paint was used or heavily textured wall or some types of wallpaper. Picture may have been enlarged so you can see it better. Please see measurements for actual size."
        ],
        [
         "45",
         "Household",
         "Artworks: Meaning, Definition, Value Review \"Artworks offers a thorough, balanced, and incisive account of the important positions on this issue and makes an interesting and persuasive case for a position that is intuitively attractive.\" --Anita Silvers, San Francisco University \"His book makes a valuable contribution to the ongoing debates and one can only admire Stecker's mastery of so many subtle points and arguments.\" --Stein Haugom Olsen, Philosophical Review \t\t\t\t    \t \t\t\t\t\t About the Author Robert Stecker is Professor of Philosophy at Central Michigan University."
        ],
        [
         "46",
         "Household",
         "Streetkart Women's & Girl's Traditional Kutchi Art Work Sling Bag/Fashionable Sling Bag for Women/Stylish Polyester Sling Bag for Casual & Formal Wear Give you new look by carry this Hand-crafted embroidered Sling Bag from the house of Streetkart .This handbag are specially design by Artisans from kutchh .This is one of the most stylish and popular design of Sling Bag, suitable for both young girls and women. Stylish Sling perfect for parties and clubbing, or for casual daily use.This Bag Is Great Choice To Keep For All Girls And Women, It Makes A Fashion Statement And Provide A Fancy Space To Keep All Your Daily Essential.FEATURES :- The styling and warm colour reflects the latest season's trends.The Straps Facilitate An Effortless Portability.♥ This Sling bag Will Go Well With Formals And Casuals As Well. It brings you more casual or party feel and happy to carry it all the time.It comes with Stylish Solid Pattern A fashion bag full of personality, convenient for you to hold cash, coin, keys, Cellphone, cards .Perfect for all ages. Care Instructions: Do not expose to extreme heat and wipe with damp cloth ."
        ],
        [
         "47",
         "Household",
         "SAF Framed Painting (Wood, 15 inch x 18 inch, Set of 3) Painting made up in synthetic frame with UV textured print which gives multi-effects and attracts towards it. This is an special series of paintings which makes your wall very beautiful and gives a royal touch. A perfect gift for your special ones."
        ],
        [
         "48",
         "Household",
         "SAF 'Buddha Religious' Painting (Synthetic, 13.5 inch x 22 inch, SA30) Color:multicolour                                                                                 |                            Size:35 cm x 3 cm x 50 cm   It is a textured effect canvas print with UV which gives a multi-effect. It is in a Italian designed frame in a synthetic material."
        ],
        [
         "49",
         "Household",
         "Sehaz Artworks Round Wooden Wall Clock (25.5 cm x 25.5 cm x 2.8 cm, Beige, SZA-PWC-12-Butterflies) This is a classic styled analog wall clock made from wood. This clock will add charm to any room in your home. There is a plastic shell casing behind the clock for batteries. Only one AA battery is required for this clock (not included). This Sehaz Artworks wall clock can be a good gift at housewarmings, weddings and social gatherings. Decorate your home with this wall clock. Perfect for living room and bedroom. More acute and quiet."
        ]
       ],
       "shape": {
        "columns": 2,
        "rows": 50425
       }
      },
      "text/html": [
       "<div>\n",
       "<style scoped>\n",
       "    .dataframe tbody tr th:only-of-type {\n",
       "        vertical-align: middle;\n",
       "    }\n",
       "\n",
       "    .dataframe tbody tr th {\n",
       "        vertical-align: top;\n",
       "    }\n",
       "\n",
       "    .dataframe thead th {\n",
       "        text-align: right;\n",
       "    }\n",
       "</style>\n",
       "<table border=\"1\" class=\"dataframe\">\n",
       "  <thead>\n",
       "    <tr style=\"text-align: right;\">\n",
       "      <th></th>\n",
       "      <th>category</th>\n",
       "      <th>text</th>\n",
       "    </tr>\n",
       "  </thead>\n",
       "  <tbody>\n",
       "    <tr>\n",
       "      <th>0</th>\n",
       "      <td>Household</td>\n",
       "      <td>Paper Plane Design Framed Wall Hanging Motivat...</td>\n",
       "    </tr>\n",
       "    <tr>\n",
       "      <th>1</th>\n",
       "      <td>Household</td>\n",
       "      <td>SAF 'Floral' Framed Painting (Wood, 30 inch x ...</td>\n",
       "    </tr>\n",
       "    <tr>\n",
       "      <th>2</th>\n",
       "      <td>Household</td>\n",
       "      <td>SAF 'UV Textured Modern Art Print Framed' Pain...</td>\n",
       "    </tr>\n",
       "    <tr>\n",
       "      <th>3</th>\n",
       "      <td>Household</td>\n",
       "      <td>SAF Flower Print Framed Painting (Synthetic, 1...</td>\n",
       "    </tr>\n",
       "    <tr>\n",
       "      <th>4</th>\n",
       "      <td>Household</td>\n",
       "      <td>Incredible Gifts India Wooden Happy Birthday U...</td>\n",
       "    </tr>\n",
       "    <tr>\n",
       "      <th>...</th>\n",
       "      <td>...</td>\n",
       "      <td>...</td>\n",
       "    </tr>\n",
       "    <tr>\n",
       "      <th>50420</th>\n",
       "      <td>Electronics</td>\n",
       "      <td>Strontium MicroSD Class 10 8GB Memory Card (Bl...</td>\n",
       "    </tr>\n",
       "    <tr>\n",
       "      <th>50421</th>\n",
       "      <td>Electronics</td>\n",
       "      <td>CrossBeats Wave Waterproof Bluetooth Wireless ...</td>\n",
       "    </tr>\n",
       "    <tr>\n",
       "      <th>50422</th>\n",
       "      <td>Electronics</td>\n",
       "      <td>Karbonn Titanium Wind W4 (White) Karbonn Titan...</td>\n",
       "    </tr>\n",
       "    <tr>\n",
       "      <th>50423</th>\n",
       "      <td>Electronics</td>\n",
       "      <td>Samsung Guru FM Plus (SM-B110E/D, Black) Colou...</td>\n",
       "    </tr>\n",
       "    <tr>\n",
       "      <th>50424</th>\n",
       "      <td>Electronics</td>\n",
       "      <td>Micromax Canvas Win W121 (White)</td>\n",
       "    </tr>\n",
       "  </tbody>\n",
       "</table>\n",
       "<p>50425 rows × 2 columns</p>\n",
       "</div>"
      ],
      "text/plain": [
       "          category                                               text\n",
       "0        Household  Paper Plane Design Framed Wall Hanging Motivat...\n",
       "1        Household  SAF 'Floral' Framed Painting (Wood, 30 inch x ...\n",
       "2        Household  SAF 'UV Textured Modern Art Print Framed' Pain...\n",
       "3        Household  SAF Flower Print Framed Painting (Synthetic, 1...\n",
       "4        Household  Incredible Gifts India Wooden Happy Birthday U...\n",
       "...            ...                                                ...\n",
       "50420  Electronics  Strontium MicroSD Class 10 8GB Memory Card (Bl...\n",
       "50421  Electronics  CrossBeats Wave Waterproof Bluetooth Wireless ...\n",
       "50422  Electronics  Karbonn Titanium Wind W4 (White) Karbonn Titan...\n",
       "50423  Electronics  Samsung Guru FM Plus (SM-B110E/D, Black) Colou...\n",
       "50424  Electronics                   Micromax Canvas Win W121 (White)\n",
       "\n",
       "[50425 rows x 2 columns]"
      ]
     },
     "execution_count": 4,
     "metadata": {},
     "output_type": "execute_result"
    }
   ],
   "source": [
    "df"
   ]
  },
  {
   "cell_type": "code",
   "execution_count": 5,
   "metadata": {},
   "outputs": [],
   "source": [
    "y=df['category']"
   ]
  },
  {
   "cell_type": "code",
   "execution_count": 6,
   "metadata": {},
   "outputs": [],
   "source": [
    "x=df['text']"
   ]
  },
  {
   "cell_type": "code",
   "execution_count": 7,
   "metadata": {},
   "outputs": [],
   "source": [
    "x.fillna('',inplace=True)"
   ]
  },
  {
   "cell_type": "code",
   "execution_count": 8,
   "metadata": {},
   "outputs": [],
   "source": [
    "from sklearn.model_selection import train_test_split\n",
    "x_train,x_test,y_train,y_test=train_test_split(x,y,test_size=0.2,random_state=23)"
   ]
  },
  {
   "cell_type": "code",
   "execution_count": 9,
   "metadata": {},
   "outputs": [],
   "source": [
    "from sklearn.feature_extraction.text import TfidfVectorizer"
   ]
  },
  {
   "cell_type": "code",
   "execution_count": 10,
   "metadata": {},
   "outputs": [],
   "source": [
    "tf=TfidfVectorizer()"
   ]
  },
  {
   "cell_type": "code",
   "execution_count": 11,
   "metadata": {},
   "outputs": [],
   "source": [
    "x_train1=tf.fit_transform(x_train)"
   ]
  },
  {
   "cell_type": "code",
   "execution_count": 12,
   "metadata": {},
   "outputs": [],
   "source": [
    "x_test1=tf.transform(x_test)"
   ]
  },
  {
   "cell_type": "code",
   "execution_count": 13,
   "metadata": {},
   "outputs": [],
   "source": [
    "from sklearn.ensemble import RandomForestClassifier\n",
    "model=RandomForestClassifier()"
   ]
  },
  {
   "cell_type": "code",
   "execution_count": 14,
   "metadata": {},
   "outputs": [
    {
     "data": {
      "text/html": [
       "<style>#sk-container-id-1 {\n",
       "  /* Definition of color scheme common for light and dark mode */\n",
       "  --sklearn-color-text: black;\n",
       "  --sklearn-color-line: gray;\n",
       "  /* Definition of color scheme for unfitted estimators */\n",
       "  --sklearn-color-unfitted-level-0: #fff5e6;\n",
       "  --sklearn-color-unfitted-level-1: #f6e4d2;\n",
       "  --sklearn-color-unfitted-level-2: #ffe0b3;\n",
       "  --sklearn-color-unfitted-level-3: chocolate;\n",
       "  /* Definition of color scheme for fitted estimators */\n",
       "  --sklearn-color-fitted-level-0: #f0f8ff;\n",
       "  --sklearn-color-fitted-level-1: #d4ebff;\n",
       "  --sklearn-color-fitted-level-2: #b3dbfd;\n",
       "  --sklearn-color-fitted-level-3: cornflowerblue;\n",
       "\n",
       "  /* Specific color for light theme */\n",
       "  --sklearn-color-text-on-default-background: var(--sg-text-color, var(--theme-code-foreground, var(--jp-content-font-color1, black)));\n",
       "  --sklearn-color-background: var(--sg-background-color, var(--theme-background, var(--jp-layout-color0, white)));\n",
       "  --sklearn-color-border-box: var(--sg-text-color, var(--theme-code-foreground, var(--jp-content-font-color1, black)));\n",
       "  --sklearn-color-icon: #696969;\n",
       "\n",
       "  @media (prefers-color-scheme: dark) {\n",
       "    /* Redefinition of color scheme for dark theme */\n",
       "    --sklearn-color-text-on-default-background: var(--sg-text-color, var(--theme-code-foreground, var(--jp-content-font-color1, white)));\n",
       "    --sklearn-color-background: var(--sg-background-color, var(--theme-background, var(--jp-layout-color0, #111)));\n",
       "    --sklearn-color-border-box: var(--sg-text-color, var(--theme-code-foreground, var(--jp-content-font-color1, white)));\n",
       "    --sklearn-color-icon: #878787;\n",
       "  }\n",
       "}\n",
       "\n",
       "#sk-container-id-1 {\n",
       "  color: var(--sklearn-color-text);\n",
       "}\n",
       "\n",
       "#sk-container-id-1 pre {\n",
       "  padding: 0;\n",
       "}\n",
       "\n",
       "#sk-container-id-1 input.sk-hidden--visually {\n",
       "  border: 0;\n",
       "  clip: rect(1px 1px 1px 1px);\n",
       "  clip: rect(1px, 1px, 1px, 1px);\n",
       "  height: 1px;\n",
       "  margin: -1px;\n",
       "  overflow: hidden;\n",
       "  padding: 0;\n",
       "  position: absolute;\n",
       "  width: 1px;\n",
       "}\n",
       "\n",
       "#sk-container-id-1 div.sk-dashed-wrapped {\n",
       "  border: 1px dashed var(--sklearn-color-line);\n",
       "  margin: 0 0.4em 0.5em 0.4em;\n",
       "  box-sizing: border-box;\n",
       "  padding-bottom: 0.4em;\n",
       "  background-color: var(--sklearn-color-background);\n",
       "}\n",
       "\n",
       "#sk-container-id-1 div.sk-container {\n",
       "  /* jupyter's `normalize.less` sets `[hidden] { display: none; }`\n",
       "     but bootstrap.min.css set `[hidden] { display: none !important; }`\n",
       "     so we also need the `!important` here to be able to override the\n",
       "     default hidden behavior on the sphinx rendered scikit-learn.org.\n",
       "     See: https://github.com/scikit-learn/scikit-learn/issues/21755 */\n",
       "  display: inline-block !important;\n",
       "  position: relative;\n",
       "}\n",
       "\n",
       "#sk-container-id-1 div.sk-text-repr-fallback {\n",
       "  display: none;\n",
       "}\n",
       "\n",
       "div.sk-parallel-item,\n",
       "div.sk-serial,\n",
       "div.sk-item {\n",
       "  /* draw centered vertical line to link estimators */\n",
       "  background-image: linear-gradient(var(--sklearn-color-text-on-default-background), var(--sklearn-color-text-on-default-background));\n",
       "  background-size: 2px 100%;\n",
       "  background-repeat: no-repeat;\n",
       "  background-position: center center;\n",
       "}\n",
       "\n",
       "/* Parallel-specific style estimator block */\n",
       "\n",
       "#sk-container-id-1 div.sk-parallel-item::after {\n",
       "  content: \"\";\n",
       "  width: 100%;\n",
       "  border-bottom: 2px solid var(--sklearn-color-text-on-default-background);\n",
       "  flex-grow: 1;\n",
       "}\n",
       "\n",
       "#sk-container-id-1 div.sk-parallel {\n",
       "  display: flex;\n",
       "  align-items: stretch;\n",
       "  justify-content: center;\n",
       "  background-color: var(--sklearn-color-background);\n",
       "  position: relative;\n",
       "}\n",
       "\n",
       "#sk-container-id-1 div.sk-parallel-item {\n",
       "  display: flex;\n",
       "  flex-direction: column;\n",
       "}\n",
       "\n",
       "#sk-container-id-1 div.sk-parallel-item:first-child::after {\n",
       "  align-self: flex-end;\n",
       "  width: 50%;\n",
       "}\n",
       "\n",
       "#sk-container-id-1 div.sk-parallel-item:last-child::after {\n",
       "  align-self: flex-start;\n",
       "  width: 50%;\n",
       "}\n",
       "\n",
       "#sk-container-id-1 div.sk-parallel-item:only-child::after {\n",
       "  width: 0;\n",
       "}\n",
       "\n",
       "/* Serial-specific style estimator block */\n",
       "\n",
       "#sk-container-id-1 div.sk-serial {\n",
       "  display: flex;\n",
       "  flex-direction: column;\n",
       "  align-items: center;\n",
       "  background-color: var(--sklearn-color-background);\n",
       "  padding-right: 1em;\n",
       "  padding-left: 1em;\n",
       "}\n",
       "\n",
       "\n",
       "/* Toggleable style: style used for estimator/Pipeline/ColumnTransformer box that is\n",
       "clickable and can be expanded/collapsed.\n",
       "- Pipeline and ColumnTransformer use this feature and define the default style\n",
       "- Estimators will overwrite some part of the style using the `sk-estimator` class\n",
       "*/\n",
       "\n",
       "/* Pipeline and ColumnTransformer style (default) */\n",
       "\n",
       "#sk-container-id-1 div.sk-toggleable {\n",
       "  /* Default theme specific background. It is overwritten whether we have a\n",
       "  specific estimator or a Pipeline/ColumnTransformer */\n",
       "  background-color: var(--sklearn-color-background);\n",
       "}\n",
       "\n",
       "/* Toggleable label */\n",
       "#sk-container-id-1 label.sk-toggleable__label {\n",
       "  cursor: pointer;\n",
       "  display: block;\n",
       "  width: 100%;\n",
       "  margin-bottom: 0;\n",
       "  padding: 0.5em;\n",
       "  box-sizing: border-box;\n",
       "  text-align: center;\n",
       "}\n",
       "\n",
       "#sk-container-id-1 label.sk-toggleable__label-arrow:before {\n",
       "  /* Arrow on the left of the label */\n",
       "  content: \"▸\";\n",
       "  float: left;\n",
       "  margin-right: 0.25em;\n",
       "  color: var(--sklearn-color-icon);\n",
       "}\n",
       "\n",
       "#sk-container-id-1 label.sk-toggleable__label-arrow:hover:before {\n",
       "  color: var(--sklearn-color-text);\n",
       "}\n",
       "\n",
       "/* Toggleable content - dropdown */\n",
       "\n",
       "#sk-container-id-1 div.sk-toggleable__content {\n",
       "  max-height: 0;\n",
       "  max-width: 0;\n",
       "  overflow: hidden;\n",
       "  text-align: left;\n",
       "  /* unfitted */\n",
       "  background-color: var(--sklearn-color-unfitted-level-0);\n",
       "}\n",
       "\n",
       "#sk-container-id-1 div.sk-toggleable__content.fitted {\n",
       "  /* fitted */\n",
       "  background-color: var(--sklearn-color-fitted-level-0);\n",
       "}\n",
       "\n",
       "#sk-container-id-1 div.sk-toggleable__content pre {\n",
       "  margin: 0.2em;\n",
       "  border-radius: 0.25em;\n",
       "  color: var(--sklearn-color-text);\n",
       "  /* unfitted */\n",
       "  background-color: var(--sklearn-color-unfitted-level-0);\n",
       "}\n",
       "\n",
       "#sk-container-id-1 div.sk-toggleable__content.fitted pre {\n",
       "  /* unfitted */\n",
       "  background-color: var(--sklearn-color-fitted-level-0);\n",
       "}\n",
       "\n",
       "#sk-container-id-1 input.sk-toggleable__control:checked~div.sk-toggleable__content {\n",
       "  /* Expand drop-down */\n",
       "  max-height: 200px;\n",
       "  max-width: 100%;\n",
       "  overflow: auto;\n",
       "}\n",
       "\n",
       "#sk-container-id-1 input.sk-toggleable__control:checked~label.sk-toggleable__label-arrow:before {\n",
       "  content: \"▾\";\n",
       "}\n",
       "\n",
       "/* Pipeline/ColumnTransformer-specific style */\n",
       "\n",
       "#sk-container-id-1 div.sk-label input.sk-toggleable__control:checked~label.sk-toggleable__label {\n",
       "  color: var(--sklearn-color-text);\n",
       "  background-color: var(--sklearn-color-unfitted-level-2);\n",
       "}\n",
       "\n",
       "#sk-container-id-1 div.sk-label.fitted input.sk-toggleable__control:checked~label.sk-toggleable__label {\n",
       "  background-color: var(--sklearn-color-fitted-level-2);\n",
       "}\n",
       "\n",
       "/* Estimator-specific style */\n",
       "\n",
       "/* Colorize estimator box */\n",
       "#sk-container-id-1 div.sk-estimator input.sk-toggleable__control:checked~label.sk-toggleable__label {\n",
       "  /* unfitted */\n",
       "  background-color: var(--sklearn-color-unfitted-level-2);\n",
       "}\n",
       "\n",
       "#sk-container-id-1 div.sk-estimator.fitted input.sk-toggleable__control:checked~label.sk-toggleable__label {\n",
       "  /* fitted */\n",
       "  background-color: var(--sklearn-color-fitted-level-2);\n",
       "}\n",
       "\n",
       "#sk-container-id-1 div.sk-label label.sk-toggleable__label,\n",
       "#sk-container-id-1 div.sk-label label {\n",
       "  /* The background is the default theme color */\n",
       "  color: var(--sklearn-color-text-on-default-background);\n",
       "}\n",
       "\n",
       "/* On hover, darken the color of the background */\n",
       "#sk-container-id-1 div.sk-label:hover label.sk-toggleable__label {\n",
       "  color: var(--sklearn-color-text);\n",
       "  background-color: var(--sklearn-color-unfitted-level-2);\n",
       "}\n",
       "\n",
       "/* Label box, darken color on hover, fitted */\n",
       "#sk-container-id-1 div.sk-label.fitted:hover label.sk-toggleable__label.fitted {\n",
       "  color: var(--sklearn-color-text);\n",
       "  background-color: var(--sklearn-color-fitted-level-2);\n",
       "}\n",
       "\n",
       "/* Estimator label */\n",
       "\n",
       "#sk-container-id-1 div.sk-label label {\n",
       "  font-family: monospace;\n",
       "  font-weight: bold;\n",
       "  display: inline-block;\n",
       "  line-height: 1.2em;\n",
       "}\n",
       "\n",
       "#sk-container-id-1 div.sk-label-container {\n",
       "  text-align: center;\n",
       "}\n",
       "\n",
       "/* Estimator-specific */\n",
       "#sk-container-id-1 div.sk-estimator {\n",
       "  font-family: monospace;\n",
       "  border: 1px dotted var(--sklearn-color-border-box);\n",
       "  border-radius: 0.25em;\n",
       "  box-sizing: border-box;\n",
       "  margin-bottom: 0.5em;\n",
       "  /* unfitted */\n",
       "  background-color: var(--sklearn-color-unfitted-level-0);\n",
       "}\n",
       "\n",
       "#sk-container-id-1 div.sk-estimator.fitted {\n",
       "  /* fitted */\n",
       "  background-color: var(--sklearn-color-fitted-level-0);\n",
       "}\n",
       "\n",
       "/* on hover */\n",
       "#sk-container-id-1 div.sk-estimator:hover {\n",
       "  /* unfitted */\n",
       "  background-color: var(--sklearn-color-unfitted-level-2);\n",
       "}\n",
       "\n",
       "#sk-container-id-1 div.sk-estimator.fitted:hover {\n",
       "  /* fitted */\n",
       "  background-color: var(--sklearn-color-fitted-level-2);\n",
       "}\n",
       "\n",
       "/* Specification for estimator info (e.g. \"i\" and \"?\") */\n",
       "\n",
       "/* Common style for \"i\" and \"?\" */\n",
       "\n",
       ".sk-estimator-doc-link,\n",
       "a:link.sk-estimator-doc-link,\n",
       "a:visited.sk-estimator-doc-link {\n",
       "  float: right;\n",
       "  font-size: smaller;\n",
       "  line-height: 1em;\n",
       "  font-family: monospace;\n",
       "  background-color: var(--sklearn-color-background);\n",
       "  border-radius: 1em;\n",
       "  height: 1em;\n",
       "  width: 1em;\n",
       "  text-decoration: none !important;\n",
       "  margin-left: 1ex;\n",
       "  /* unfitted */\n",
       "  border: var(--sklearn-color-unfitted-level-1) 1pt solid;\n",
       "  color: var(--sklearn-color-unfitted-level-1);\n",
       "}\n",
       "\n",
       ".sk-estimator-doc-link.fitted,\n",
       "a:link.sk-estimator-doc-link.fitted,\n",
       "a:visited.sk-estimator-doc-link.fitted {\n",
       "  /* fitted */\n",
       "  border: var(--sklearn-color-fitted-level-1) 1pt solid;\n",
       "  color: var(--sklearn-color-fitted-level-1);\n",
       "}\n",
       "\n",
       "/* On hover */\n",
       "div.sk-estimator:hover .sk-estimator-doc-link:hover,\n",
       ".sk-estimator-doc-link:hover,\n",
       "div.sk-label-container:hover .sk-estimator-doc-link:hover,\n",
       ".sk-estimator-doc-link:hover {\n",
       "  /* unfitted */\n",
       "  background-color: var(--sklearn-color-unfitted-level-3);\n",
       "  color: var(--sklearn-color-background);\n",
       "  text-decoration: none;\n",
       "}\n",
       "\n",
       "div.sk-estimator.fitted:hover .sk-estimator-doc-link.fitted:hover,\n",
       ".sk-estimator-doc-link.fitted:hover,\n",
       "div.sk-label-container:hover .sk-estimator-doc-link.fitted:hover,\n",
       ".sk-estimator-doc-link.fitted:hover {\n",
       "  /* fitted */\n",
       "  background-color: var(--sklearn-color-fitted-level-3);\n",
       "  color: var(--sklearn-color-background);\n",
       "  text-decoration: none;\n",
       "}\n",
       "\n",
       "/* Span, style for the box shown on hovering the info icon */\n",
       ".sk-estimator-doc-link span {\n",
       "  display: none;\n",
       "  z-index: 9999;\n",
       "  position: relative;\n",
       "  font-weight: normal;\n",
       "  right: .2ex;\n",
       "  padding: .5ex;\n",
       "  margin: .5ex;\n",
       "  width: min-content;\n",
       "  min-width: 20ex;\n",
       "  max-width: 50ex;\n",
       "  color: var(--sklearn-color-text);\n",
       "  box-shadow: 2pt 2pt 4pt #999;\n",
       "  /* unfitted */\n",
       "  background: var(--sklearn-color-unfitted-level-0);\n",
       "  border: .5pt solid var(--sklearn-color-unfitted-level-3);\n",
       "}\n",
       "\n",
       ".sk-estimator-doc-link.fitted span {\n",
       "  /* fitted */\n",
       "  background: var(--sklearn-color-fitted-level-0);\n",
       "  border: var(--sklearn-color-fitted-level-3);\n",
       "}\n",
       "\n",
       ".sk-estimator-doc-link:hover span {\n",
       "  display: block;\n",
       "}\n",
       "\n",
       "/* \"?\"-specific style due to the `<a>` HTML tag */\n",
       "\n",
       "#sk-container-id-1 a.estimator_doc_link {\n",
       "  float: right;\n",
       "  font-size: 1rem;\n",
       "  line-height: 1em;\n",
       "  font-family: monospace;\n",
       "  background-color: var(--sklearn-color-background);\n",
       "  border-radius: 1rem;\n",
       "  height: 1rem;\n",
       "  width: 1rem;\n",
       "  text-decoration: none;\n",
       "  /* unfitted */\n",
       "  color: var(--sklearn-color-unfitted-level-1);\n",
       "  border: var(--sklearn-color-unfitted-level-1) 1pt solid;\n",
       "}\n",
       "\n",
       "#sk-container-id-1 a.estimator_doc_link.fitted {\n",
       "  /* fitted */\n",
       "  border: var(--sklearn-color-fitted-level-1) 1pt solid;\n",
       "  color: var(--sklearn-color-fitted-level-1);\n",
       "}\n",
       "\n",
       "/* On hover */\n",
       "#sk-container-id-1 a.estimator_doc_link:hover {\n",
       "  /* unfitted */\n",
       "  background-color: var(--sklearn-color-unfitted-level-3);\n",
       "  color: var(--sklearn-color-background);\n",
       "  text-decoration: none;\n",
       "}\n",
       "\n",
       "#sk-container-id-1 a.estimator_doc_link.fitted:hover {\n",
       "  /* fitted */\n",
       "  background-color: var(--sklearn-color-fitted-level-3);\n",
       "}\n",
       "</style><div id=\"sk-container-id-1\" class=\"sk-top-container\"><div class=\"sk-text-repr-fallback\"><pre>RandomForestClassifier()</pre><b>In a Jupyter environment, please rerun this cell to show the HTML representation or trust the notebook. <br />On GitHub, the HTML representation is unable to render, please try loading this page with nbviewer.org.</b></div><div class=\"sk-container\" hidden><div class=\"sk-item\"><div class=\"sk-estimator fitted sk-toggleable\"><input class=\"sk-toggleable__control sk-hidden--visually\" id=\"sk-estimator-id-1\" type=\"checkbox\" checked><label for=\"sk-estimator-id-1\" class=\"sk-toggleable__label fitted sk-toggleable__label-arrow fitted\">&nbsp;&nbsp;RandomForestClassifier<a class=\"sk-estimator-doc-link fitted\" rel=\"noreferrer\" target=\"_blank\" href=\"https://scikit-learn.org/1.5/modules/generated/sklearn.ensemble.RandomForestClassifier.html\">?<span>Documentation for RandomForestClassifier</span></a><span class=\"sk-estimator-doc-link fitted\">i<span>Fitted</span></span></label><div class=\"sk-toggleable__content fitted\"><pre>RandomForestClassifier()</pre></div> </div></div></div></div>"
      ],
      "text/plain": [
       "RandomForestClassifier()"
      ]
     },
     "execution_count": 14,
     "metadata": {},
     "output_type": "execute_result"
    }
   ],
   "source": [
    "model.fit(x_train1,y_train)"
   ]
  },
  {
   "cell_type": "code",
   "execution_count": 15,
   "metadata": {},
   "outputs": [],
   "source": [
    "y_pred=model.predict(x_test1)"
   ]
  },
  {
   "cell_type": "code",
   "execution_count": 16,
   "metadata": {},
   "outputs": [],
   "source": [
    "from sklearn.metrics import classification_report,confusion_matrix"
   ]
  },
  {
   "cell_type": "code",
   "execution_count": 17,
   "metadata": {},
   "outputs": [
    {
     "name": "stdout",
     "output_type": "stream",
     "text": [
      "                        precision    recall  f1-score   support\n",
      "\n",
      "                 Books       0.98      0.97      0.97      2325\n",
      "Clothing & Accessories       0.97      0.97      0.97      1713\n",
      "           Electronics       0.98      0.94      0.96      2052\n",
      "             Household       0.95      0.98      0.97      3995\n",
      "\n",
      "              accuracy                           0.97     10085\n",
      "             macro avg       0.97      0.96      0.97     10085\n",
      "          weighted avg       0.97      0.97      0.97     10085\n",
      "\n"
     ]
    }
   ],
   "source": [
    "print(classification_report(y_test,y_pred))"
   ]
  },
  {
   "cell_type": "code",
   "execution_count": 18,
   "metadata": {},
   "outputs": [
    {
     "name": "stdout",
     "output_type": "stream",
     "text": [
      "[[2244   13   15   53]\n",
      " [   7 1659    7   40]\n",
      " [  17   11 1927   97]\n",
      " [  22   19   22 3932]]\n"
     ]
    }
   ],
   "source": [
    "print(confusion_matrix(y_test,y_pred))"
   ]
  },
  {
   "cell_type": "code",
   "execution_count": 21,
   "metadata": {},
   "outputs": [
    {
     "name": "stdout",
     "output_type": "stream",
     "text": [
      "Predicted category: Clothing & Accessories\n"
     ]
    }
   ],
   "source": [
    "#input from user \n",
    "input_text=input(\"Enter the text to predict the category: \")\n",
    "input_text=tf.transform([input_text])\n",
    "pred=model.predict(input_text)\n",
    "print(\"Predicted category:\",pred[0])"
   ]
  }
 ],
 "metadata": {
  "kernelspec": {
   "display_name": "Python 3",
   "language": "python",
   "name": "python3"
  },
  "language_info": {
   "codemirror_mode": {
    "name": "ipython",
    "version": 3
   },
   "file_extension": ".py",
   "mimetype": "text/x-python",
   "name": "python",
   "nbconvert_exporter": "python",
   "pygments_lexer": "ipython3",
   "version": "3.12.6"
  }
 },
 "nbformat": 4,
 "nbformat_minor": 2
}
