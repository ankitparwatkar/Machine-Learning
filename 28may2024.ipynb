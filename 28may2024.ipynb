{
 "cells": [
  {
   "cell_type": "code",
   "execution_count": 2,
   "id": "46b57b89-15a8-420a-b86f-5e75e05d7286",
   "metadata": {},
   "outputs": [],
   "source": [
    "import numpy as np"
   ]
  },
  {
   "cell_type": "code",
   "execution_count": 6,
   "id": "5669c902-040c-4367-9e80-4a15d9dd62c5",
   "metadata": {},
   "outputs": [
    {
     "name": "stdout",
     "output_type": "stream",
     "text": [
      "5.0\n"
     ]
    }
   ],
   "source": [
    "print(np.add(1.0, 4.0))\n",
    "\n"
   ]
  },
  {
   "cell_type": "code",
   "execution_count": 7,
   "id": "a9d436f4-58e0-4a40-9d40-e88cc88177ea",
   "metadata": {},
   "outputs": [
    {
     "name": "stdout",
     "output_type": "stream",
     "text": [
      "[[0. 1. 2.]\n",
      " [3. 4. 5.]\n",
      " [6. 7. 8.]]\n"
     ]
    }
   ],
   "source": [
    "x1=np.arange(9.0).reshape((3, 3))\n",
    "print(x1)"
   ]
  },
  {
   "cell_type": "code",
   "execution_count": 8,
   "id": "4d160aa9-7045-459e-83d2-2a8ad852b71b",
   "metadata": {},
   "outputs": [
    {
     "name": "stdout",
     "output_type": "stream",
     "text": [
      "[0. 1. 2.]\n"
     ]
    }
   ],
   "source": [
    "x2=np.arange(3.0)\n",
    "print(x2)"
   ]
  },
  {
   "cell_type": "code",
   "execution_count": 9,
   "id": "7f37f6fc-df8d-4bc0-951d-4a879b644d36",
   "metadata": {},
   "outputs": [
    {
     "name": "stdout",
     "output_type": "stream",
     "text": [
      "[[ 0.  2.  4.]\n",
      " [ 3.  5.  7.]\n",
      " [ 6.  8. 10.]]\n"
     ]
    }
   ],
   "source": [
    "x3=x1+x2\n",
    "print(x3)"
   ]
  },
  {
   "cell_type": "code",
   "execution_count": 18,
   "id": "95202bff-dd10-479f-bb68-e30a44bb1b66",
   "metadata": {},
   "outputs": [
    {
     "name": "stdout",
     "output_type": "stream",
     "text": [
      "[[0]\n",
      " [1]\n",
      " [2]]\n"
     ]
    }
   ],
   "source": [
    "x4=np.arange(3).reshape((3, 1))\n",
    "print(x4)"
   ]
  },
  {
   "cell_type": "code",
   "execution_count": 17,
   "id": "3eb71bea-cd67-40fa-ba7d-97810a06998f",
   "metadata": {},
   "outputs": [
    {
     "name": "stdout",
     "output_type": "stream",
     "text": [
      "[[0 1 2]\n",
      " [3 4 5]\n",
      " [6 7 8]]\n"
     ]
    }
   ],
   "source": [
    "x5=np.arange(9).reshape((3, 3))\n",
    "print(x5)"
   ]
  },
  {
   "cell_type": "code",
   "execution_count": 19,
   "id": "a9960734-d676-46d3-8073-fc163f1e99bc",
   "metadata": {},
   "outputs": [
    {
     "name": "stdout",
     "output_type": "stream",
     "text": [
      "[[ 0  1  2]\n",
      " [ 4  5  6]\n",
      " [ 8  9 10]]\n"
     ]
    }
   ],
   "source": [
    "x6=x4+x5\n",
    "print(x6)"
   ]
  },
  {
   "cell_type": "code",
   "execution_count": 22,
   "id": "bcf51dde-e271-4a69-b2ea-59e923ea87b4",
   "metadata": {},
   "outputs": [
    {
     "name": "stdout",
     "output_type": "stream",
     "text": [
      "[[0 1 2]\n",
      " [3 4 5]\n",
      " [6 7 8]]\n",
      "[1 2 3]\n",
      "[[0.         0.5        0.66666667]\n",
      " [3.         2.         1.66666667]\n",
      " [6.         3.5        2.66666667]]\n"
     ]
    }
   ],
   "source": [
    "a=np.arange(9).reshape(3, 3)\n",
    "print(a)\n",
    "b=np.arange(1, 4)\n",
    "print(b)\n",
    "print(a/b)"
   ]
  },
  {
   "cell_type": "code",
   "execution_count": 23,
   "id": "1876018c-11e4-484a-b8d4-1d5979fa81a9",
   "metadata": {},
   "outputs": [
    {
     "name": "stdout",
     "output_type": "stream",
     "text": [
      "[[0.  0.5 1. ]\n",
      " [1.5 2.  2.5]\n",
      " [3.  3.5 4. ]]\n"
     ]
    }
   ],
   "source": [
    "x11=np.arange(9.0).reshape((3, 3))\n",
    "x12=2*np.ones(3)\n",
    "print(x11/x12)"
   ]
  },
  {
   "cell_type": "code",
   "execution_count": 24,
   "id": "7f8a403c-7629-412f-ba1f-d0965358e037",
   "metadata": {},
   "outputs": [
    {
     "data": {
      "text/plain": [
       "array([  0,   1,   8,  27,  64, 125], dtype=int32)"
      ]
     },
     "execution_count": 24,
     "metadata": {},
     "output_type": "execute_result"
    }
   ],
   "source": [
    "x13=np.arange(6)\n",
    "np.power(x13, 3)\n"
   ]
  },
  {
   "cell_type": "code",
   "execution_count": 25,
   "id": "f254e23b-0be2-4119-a63f-26043b69c8bf",
   "metadata": {},
   "outputs": [
    {
     "data": {
      "text/plain": [
       "array([ 0.,  1.,  8., 27., 16.,  5.])"
      ]
     },
     "execution_count": 25,
     "metadata": {},
     "output_type": "execute_result"
    }
   ],
   "source": [
    "x14=[1.0, 2.0, 3.0, 3.0, 2.0, 1.0]\n",
    "np.power(x13, x14)"
   ]
  },
  {
   "cell_type": "code",
   "execution_count": 26,
   "id": "54309cf5-2705-4800-b0b8-f802c7b3f186",
   "metadata": {},
   "outputs": [
    {
     "data": {
      "text/plain": [
       "array([ 1,  2,  9, 27, 16,  1])"
      ]
     },
     "execution_count": 26,
     "metadata": {},
     "output_type": "execute_result"
    }
   ],
   "source": [
    "x15=np.array([1, 2, 3, 3, 2, 1])\n",
    "x16=np.arange(6)\n",
    "x15**x16"
   ]
  }
 ],
 "metadata": {
  "kernelspec": {
   "display_name": "Python 3 (ipykernel)",
   "language": "python",
   "name": "python3"
  },
  "language_info": {
   "codemirror_mode": {
    "name": "ipython",
    "version": 3
   },
   "file_extension": ".py",
   "mimetype": "text/x-python",
   "name": "python",
   "nbconvert_exporter": "python",
   "pygments_lexer": "ipython3",
   "version": "3.11.7"
  }
 },
 "nbformat": 4,
 "nbformat_minor": 5
}
